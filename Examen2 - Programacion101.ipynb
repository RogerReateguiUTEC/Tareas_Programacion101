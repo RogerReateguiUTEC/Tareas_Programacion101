{
  "nbformat": 4,
  "nbformat_minor": 0,
  "metadata": {
    "colab": {
      "provenance": [],
      "include_colab_link": true
    },
    "kernelspec": {
      "name": "python3",
      "display_name": "Python 3"
    },
    "language_info": {
      "name": "python"
    }
  },
  "cells": [
    {
      "cell_type": "markdown",
      "metadata": {
        "id": "view-in-github",
        "colab_type": "text"
      },
      "source": [
        "<a href=\"https://colab.research.google.com/github/RogerReateguiUTEC/Tareas_Programacion101/blob/main/Examen2%20-%20Programacion101.ipynb\" target=\"_parent\"><img src=\"https://colab.research.google.com/assets/colab-badge.svg\" alt=\"Open In Colab\"/></a>"
      ]
    },
    {
      "cell_type": "markdown",
      "source": [
        "## EXAMEN 2 - ROGER REATEGUI SOTO"
      ],
      "metadata": {
        "id": "LRS_nQZsQoFP"
      }
    },
    {
      "cell_type": "markdown",
      "source": [
        "1. Cifrado de Texto (5 puntos)\n",
        "Escribe una función en Python llamada cifrar_texto que tome una cadena de texto y un número entero positivo n.\n",
        "La función debe devolver una nueva cadena donde cada carácter alfabético ha sido desplazado n posiciones\n",
        "adelante en el alfabeto. El cifrado debe ser cíclico; es decir, después de la 'z' sigue la 'a'. Mantén los caracteres\n",
        "no alfabéticos sin cambios y preserva las mayúsculas y minúsculas.\n",
        "\n"
      ],
      "metadata": {
        "id": "5O1ZbxoL-EAB"
      }
    },
    {
      "cell_type": "code",
      "source": [
        "def cifrar_texto(palabra, n):\n",
        "    resultado = []\n",
        "\n",
        "    for i in palabra:\n",
        "      #determinamos si la letra es del abecedario o no\n",
        "      if i.isalpha():\n",
        "          base = ord('A') if i.isupper() else ord('a')\n",
        "          nuevo_char = chr((ord(i) - base + n) % 26 + base)\n",
        "          resultado.append(nuevo_char)\n",
        "      else:\n",
        "          resultado.append(i)\n",
        "    return ''.join(resultado)"
      ],
      "metadata": {
        "id": "iWyq5qTXKyPe"
      },
      "execution_count": 25,
      "outputs": []
    },
    {
      "cell_type": "code",
      "source": [
        "cifrar_texto(\"Hola mundo!\", 3)"
      ],
      "metadata": {
        "id": "2Izcz40kXj51",
        "outputId": "d3e95c69-89c0-4fde-9bbb-ec4f57acc04f",
        "colab": {
          "base_uri": "https://localhost:8080/",
          "height": 35
        }
      },
      "execution_count": 26,
      "outputs": [
        {
          "output_type": "execute_result",
          "data": {
            "text/plain": [
              "'Krod pxqgr!'"
            ],
            "application/vnd.google.colaboratory.intrinsic+json": {
              "type": "string"
            }
          },
          "metadata": {},
          "execution_count": 26
        }
      ]
    },
    {
      "cell_type": "markdown",
      "source": [
        "2. Números Primos Gemelos (5 puntos)\n",
        "Escribe una función en Python que encuentre y devuelva todos los pares de números primos gemelos menores\n",
        "que un número entero positivo m dado. Los números primos gemelos son pares de números primos que difieren\n",
        "en 2 (por ejemplo, 3 y 5).\n",
        "\n",
        "Pista: Crea una función auxiliar para verificar si un número es primo, y utiliza un bucle para encontrar todos los\n",
        "primos hasta m.\n",
        "Ejemplo:\n",
        "primos_gemelos(15) # Devuelve [(3, 5), (5, 7), (11, 13)]"
      ],
      "metadata": {
        "id": "xCQITB1INExO"
      }
    },
    {
      "cell_type": "code",
      "source": [
        "def es_primo(numero):\n",
        "  for i in range(2, numero):\n",
        "    if numero%i==0:\n",
        "      return False\n",
        "      break\n",
        "  return True\n",
        "\n",
        "def generar_primos(numero):\n",
        "  listaPrimos = []\n",
        "  for i in range(3, numero+1):\n",
        "    if es_primo(i):\n",
        "      listaPrimos.append(i)\n",
        "\n",
        "  resultado = [(listaPrimos[i], listaPrimos[i+1]) for i in range(len(listaPrimos) - 1)]\n",
        "  return resultado"
      ],
      "metadata": {
        "id": "rCgPfuJIYU7R"
      },
      "execution_count": 37,
      "outputs": []
    },
    {
      "cell_type": "code",
      "source": [
        "generar_primos(15)"
      ],
      "metadata": {
        "id": "kluVsjjmY7X8",
        "outputId": "6d7b556a-0ce3-4172-b905-a862a2b4c28f",
        "colab": {
          "base_uri": "https://localhost:8080/"
        }
      },
      "execution_count": 38,
      "outputs": [
        {
          "output_type": "execute_result",
          "data": {
            "text/plain": [
              "[(3, 5), (5, 7), (7, 11), (11, 13)]"
            ]
          },
          "metadata": {},
          "execution_count": 38
        }
      ]
    },
    {
      "cell_type": "code",
      "source": [],
      "metadata": {
        "id": "MbcsCcQnY8eX"
      },
      "execution_count": null,
      "outputs": []
    }
  ]
}