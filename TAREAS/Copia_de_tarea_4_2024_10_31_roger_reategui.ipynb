{
  "nbformat": 4,
  "nbformat_minor": 0,
  "metadata": {
    "colab": {
      "provenance": [],
      "authorship_tag": "ABX9TyO+H20HMjkslMtKfhCwP9qv",
      "include_colab_link": true
    },
    "kernelspec": {
      "name": "python3",
      "display_name": "Python 3"
    },
    "language_info": {
      "name": "python"
    }
  },
  "cells": [
    {
      "cell_type": "markdown",
      "metadata": {
        "id": "view-in-github",
        "colab_type": "text"
      },
      "source": [
        "<a href=\"https://colab.research.google.com/github/RogerReateguiUTEC/Tareas_Programacion101/blob/main/TAREAS/Copia_de_tarea_4_2024_10_31_roger_reategui.ipynb\" target=\"_parent\"><img src=\"https://colab.research.google.com/assets/colab-badge.svg\" alt=\"Open In Colab\"/></a>"
      ]
    },
    {
      "cell_type": "markdown",
      "source": [
        "\n",
        "\n",
        "## Ejercicio 1.1:\n",
        "\n",
        "Define dos variables en tu código:\n",
        "\n",
        "Una ruta absoluta que apunte a un archivo en tu computadora. Una ruta relativa que apunte a un archivo en un subdirectorio llamado data."
      ],
      "metadata": {
        "id": "wWsdUW5ha7-Z"
      }
    },
    {
      "cell_type": "code",
      "source": [
        "#Rutas dentro de la carpeta del entorno de ejecución de google collab\n",
        "ruta_absoluta = \"/content/data/archivo_roger.txt\"\n",
        "ruta_relativa = \"data/archivo_roger.txt\""
      ],
      "metadata": {
        "id": "WFn0L8hQbO_S"
      },
      "execution_count": 11,
      "outputs": []
    },
    {
      "cell_type": "markdown",
      "source": [
        "\n",
        "\n",
        "## Ejercicio 1.2\n",
        "* Crea un archivo de texto llamado prueba.txt en el cual escribas tres líneas de texto.\n",
        "* Lee el archivo prueba.txt y muestra su contenido en pantalla.\n",
        "* Escribe desde python una modificacion en el archivo\n",
        "\n"
      ],
      "metadata": {
        "id": "1729zx3gfw-1"
      }
    },
    {
      "cell_type": "code",
      "source": [
        "ruta_absoluta = \"/content/prueba.txt\"\n",
        "\n",
        "#abriendo el archivo y leerlo\n",
        "archivo = open(ruta_absoluta, \"r\")\n",
        "print(archivo.read())\n",
        "archivo.close()"
      ],
      "metadata": {
        "colab": {
          "base_uri": "https://localhost:8080/"
        },
        "id": "FhN-AxyAdAD4",
        "outputId": "647a95c8-a135-4dfb-be76-bd854d31931b"
      },
      "execution_count": 20,
      "outputs": [
        {
          "output_type": "stream",
          "name": "stdout",
          "text": [
            "Modificación en el archivo... \n",
            "línea 2... \n",
            "línea 3... \n",
            "\n"
          ]
        }
      ]
    },
    {
      "cell_type": "code",
      "source": [
        "#abriendo el archivo y escribir en este\n",
        "archivo = open(ruta_absoluta, \"w\")\n",
        "archivo.write(\"Modificación en el archivo... \\n\")\n",
        "archivo.write(\"línea 2... \\n\")\n",
        "archivo.write(\"línea 3... \\n\")\n",
        "archivo.close()\n",
        "#comprobando la modificación:\n",
        "archivo = open(ruta_absoluta, \"r\")\n",
        "print(archivo.read())"
      ],
      "metadata": {
        "colab": {
          "base_uri": "https://localhost:8080/"
        },
        "id": "VFJfcdL7gVSt",
        "outputId": "ea83a317-7767-4c36-96e3-58706db2b57a"
      },
      "execution_count": 21,
      "outputs": [
        {
          "output_type": "stream",
          "name": "stdout",
          "text": [
            "Modificación en el archivo... \n",
            "línea 2... \n",
            "línea 3... \n",
            "\n"
          ]
        }
      ]
    },
    {
      "cell_type": "code",
      "source": [],
      "metadata": {
        "id": "X9CiAZfEhtbI"
      },
      "execution_count": null,
      "outputs": []
    }
  ]
}