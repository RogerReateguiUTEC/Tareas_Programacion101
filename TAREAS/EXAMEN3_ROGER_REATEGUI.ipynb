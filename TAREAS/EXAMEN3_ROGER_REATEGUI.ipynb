{
  "nbformat": 4,
  "nbformat_minor": 0,
  "metadata": {
    "colab": {
      "provenance": [],
      "authorship_tag": "ABX9TyNF6ZZgdT4A9hGrIiRM7Y7R",
      "include_colab_link": true
    },
    "kernelspec": {
      "name": "python3",
      "display_name": "Python 3"
    },
    "language_info": {
      "name": "python"
    }
  },
  "cells": [
    {
      "cell_type": "markdown",
      "metadata": {
        "id": "view-in-github",
        "colab_type": "text"
      },
      "source": [
        "<a href=\"https://colab.research.google.com/github/RogerReateguiUTEC/Tareas_Programacion101/blob/main/TAREAS/EXAMEN3_ROGER_REATEGUI.ipynb\" target=\"_parent\"><img src=\"https://colab.research.google.com/assets/colab-badge.svg\" alt=\"Open In Colab\"/></a>"
      ]
    },
    {
      "cell_type": "markdown",
      "source": [
        "# Examen 3 - ROGER REATEGUI SOTO"
      ],
      "metadata": {
        "id": "5hF0m4IN-r5a"
      }
    },
    {
      "cell_type": "markdown",
      "source": [
        " # **Pregunta 1:**"
      ],
      "metadata": {
        "id": "86PXIdu0_EPN"
      }
    },
    {
      "cell_type": "markdown",
      "source": [
        "a) Crea un array unidimensional que contenga los números primos entre 1 y 50."
      ],
      "metadata": {
        "id": "w0_E6TQzKI69"
      }
    },
    {
      "cell_type": "code",
      "source": [
        "import numpy as np"
      ],
      "metadata": {
        "id": "wr2EygWYKNv_"
      },
      "execution_count": 18,
      "outputs": []
    },
    {
      "cell_type": "code",
      "source": [
        "numeros = np.arange(1, 51)\n",
        "\n",
        "def es_primo(num):\n",
        "    if num < 2:\n",
        "        return False\n",
        "    if num%2 == 0 and num > 2:\n",
        "        return False\n",
        "\n",
        "    for i in range(3, int(np.sqrt(num)) + 1, 2):\n",
        "        if num % i == 0:\n",
        "            return False\n",
        "    return True\n",
        "\n",
        "primos = np.array([i for i in numeros if es_primo(i)])\n",
        "primos"
      ],
      "metadata": {
        "colab": {
          "base_uri": "https://localhost:8080/"
        },
        "id": "rfl2HzsoKh8I",
        "outputId": "aaf9e957-50d6-49a8-d51b-2ff082750e02"
      },
      "execution_count": 45,
      "outputs": [
        {
          "output_type": "execute_result",
          "data": {
            "text/plain": [
              "array([ 2,  3,  5,  7, 11, 13, 17, 19, 23, 29, 31, 37, 41, 43, 47])"
            ]
          },
          "metadata": {},
          "execution_count": 45
        }
      ]
    },
    {
      "cell_type": "markdown",
      "source": [
        "b) Convierte el array unidimensional anterior en una matriz de forma (n, 2), donde n es el número adecuado de filas. Si es necesario, agrega ceros al final del array para completar la matriz."
      ],
      "metadata": {
        "id": "_u_Sp44fMnKm"
      }
    },
    {
      "cell_type": "code",
      "source": [
        "# Calcular cuántos ceros necesitamos agregar\n",
        "n_elementos = primos.size\n",
        "\n",
        "if n_elementos % 2 != 0:\n",
        "    # Si el número de elementos no es par, agregar un cero\n",
        "    primos = np.append(primos, 0)\n",
        "\n",
        "# Redimensionar el array a la forma (n, 2)\n",
        "matriz_reshaped = primos.reshape(-1, 2)\n",
        "\n",
        "print(matriz_reshaped)"
      ],
      "metadata": {
        "colab": {
          "base_uri": "https://localhost:8080/"
        },
        "id": "_XrkuOGwMvt3",
        "outputId": "5c9826be-56e1-45f3-a734-c6be413169a7"
      },
      "execution_count": 25,
      "outputs": [
        {
          "output_type": "stream",
          "name": "stdout",
          "text": [
            "[[ 2  3]\n",
            " [ 5  7]\n",
            " [11 13]\n",
            " [17 19]\n",
            " [23 29]\n",
            " [31 37]\n",
            " [41 43]\n",
            " [47  0]]\n"
          ]
        }
      ]
    },
    {
      "cell_type": "markdown",
      "source": [
        " c) Calcula la suma de cada fila y crea un nuevo array que contenga estos valores."
      ],
      "metadata": {
        "id": "YQqT28bINZ8A"
      }
    },
    {
      "cell_type": "code",
      "source": [
        "suma_filas = np.sum(matriz_reshaped, axis=1)\n",
        "suma_filas #cada elemento de este array es la suma de las filas de matriz_reshaped"
      ],
      "metadata": {
        "colab": {
          "base_uri": "https://localhost:8080/"
        },
        "id": "2skMOygONhvf",
        "outputId": "d4159a70-b846-49ea-d75a-b2665ab659c2"
      },
      "execution_count": 27,
      "outputs": [
        {
          "output_type": "execute_result",
          "data": {
            "text/plain": [
              "array([ 5, 12, 24, 36, 52, 68, 84, 47])"
            ]
          },
          "metadata": {},
          "execution_count": 27
        }
      ]
    },
    {
      "cell_type": "code",
      "source": [],
      "metadata": {
        "id": "ncJcJ_9NSrCc"
      },
      "execution_count": null,
      "outputs": []
    },
    {
      "cell_type": "markdown",
      "source": [
        "#  **Pregunta 2:**"
      ],
      "metadata": {
        "id": "S547A03SNqz4"
      }
    },
    {
      "cell_type": "markdown",
      "source": [
        " a) Crea un array bidimensional de forma (4, 4) que contenga números enteros aleatorios entre 1 y 100."
      ],
      "metadata": {
        "id": "8qTnN8-TNSox"
      }
    },
    {
      "cell_type": "code",
      "source": [
        "array_bidimensional = np.random.randint(1, 101, size=(4, 4))\n",
        "array_bidimensional"
      ],
      "metadata": {
        "colab": {
          "base_uri": "https://localhost:8080/"
        },
        "id": "rd6-mCTDNQ_w",
        "outputId": "8413a88d-8ed3-4e05-f881-36aa77ed35a7"
      },
      "execution_count": 32,
      "outputs": [
        {
          "output_type": "execute_result",
          "data": {
            "text/plain": [
              "array([[57, 22, 33, 95],\n",
              "       [19, 90, 84, 39],\n",
              "       [32, 39, 72, 11],\n",
              "       [ 6, 21, 32, 73]])"
            ]
          },
          "metadata": {},
          "execution_count": 32
        }
      ]
    },
    {
      "cell_type": "markdown",
      "source": [
        " b) Cambia el tipo de datos del array a float64 y divide todos los elementos or 3.7."
      ],
      "metadata": {
        "id": "orAbZixoPDc_"
      }
    },
    {
      "cell_type": "code",
      "source": [
        "array_bidimensional = array_bidimensional.astype(np.float64)\n",
        "array_bidimensional"
      ],
      "metadata": {
        "colab": {
          "base_uri": "https://localhost:8080/"
        },
        "id": "KnQmfR2rOqoe",
        "outputId": "e4bf4de0-e55b-4c48-dac5-9cd8264c08bc"
      },
      "execution_count": 33,
      "outputs": [
        {
          "output_type": "execute_result",
          "data": {
            "text/plain": [
              "array([[57., 22., 33., 95.],\n",
              "       [19., 90., 84., 39.],\n",
              "       [32., 39., 72., 11.],\n",
              "       [ 6., 21., 32., 73.]])"
            ]
          },
          "metadata": {},
          "execution_count": 33
        }
      ]
    },
    {
      "cell_type": "code",
      "source": [
        "array_resultado = array_bidimensional / 3.7\n",
        "array_resultado"
      ],
      "metadata": {
        "colab": {
          "base_uri": "https://localhost:8080/"
        },
        "id": "8GzAREv8O1zl",
        "outputId": "0b5db44c-5e3d-4759-bcfe-8e46af329174"
      },
      "execution_count": 35,
      "outputs": [
        {
          "output_type": "execute_result",
          "data": {
            "text/plain": [
              "array([[15.40540541,  5.94594595,  8.91891892, 25.67567568],\n",
              "       [ 5.13513514, 24.32432432, 22.7027027 , 10.54054054],\n",
              "       [ 8.64864865, 10.54054054, 19.45945946,  2.97297297],\n",
              "       [ 1.62162162,  5.67567568,  8.64864865, 19.72972973]])"
            ]
          },
          "metadata": {},
          "execution_count": 35
        }
      ]
    },
    {
      "cell_type": "markdown",
      "source": [
        "c) Calcula y muestra las siguientes propiedades del array resultante:\n",
        "\n",
        "* Dimensiones (ndim)\n",
        "* Forma(shape)\n",
        "* Tamañototal (size)\n",
        "* Tipodedatos (dtype)"
      ],
      "metadata": {
        "id": "idAAlUyCMkrB"
      }
    },
    {
      "cell_type": "code",
      "source": [
        "print(\"Dimensiones (ndim):\", array_resultado.ndim)\n",
        "print(\"Forma (shape):\", array_resultado.shape)\n",
        "print(\"Tamaño total (size):\", array_resultado.size)\n",
        "print(\"Tipo de datos (dtype):\", array_resultado.dtype)"
      ],
      "metadata": {
        "colab": {
          "base_uri": "https://localhost:8080/"
        },
        "id": "bODdqNubKsD2",
        "outputId": "f1abf875-6b03-4d7a-87ab-1116bfbcf053"
      },
      "execution_count": 36,
      "outputs": [
        {
          "output_type": "stream",
          "name": "stdout",
          "text": [
            "Dimensiones (ndim): 2\n",
            "Forma (shape): (4, 4)\n",
            "Tamaño total (size): 16\n",
            "Tipo de datos (dtype): float64\n"
          ]
        }
      ]
    },
    {
      "cell_type": "code",
      "source": [],
      "metadata": {
        "id": "dxQjX-E5SsnG"
      },
      "execution_count": null,
      "outputs": []
    },
    {
      "cell_type": "markdown",
      "source": [
        "# **Pregunta 3:**"
      ],
      "metadata": {
        "id": "8jVdI1nQPirn"
      }
    },
    {
      "cell_type": "markdown",
      "source": [
        " a) Crea un array x que contenga 100 valores equiespaciados entre-10 y 10."
      ],
      "metadata": {
        "id": "gGjFzKjY_FfP"
      }
    },
    {
      "cell_type": "code",
      "source": [
        "x = np.linspace(-10, 10, 100)\n",
        "x"
      ],
      "metadata": {
        "colab": {
          "base_uri": "https://localhost:8080/"
        },
        "id": "hX3JUlDfPzud",
        "outputId": "0c450ee5-847d-498a-e841-0dc2bc3a2d68"
      },
      "execution_count": 37,
      "outputs": [
        {
          "output_type": "execute_result",
          "data": {
            "text/plain": [
              "array([-10.        ,  -9.7979798 ,  -9.5959596 ,  -9.39393939,\n",
              "        -9.19191919,  -8.98989899,  -8.78787879,  -8.58585859,\n",
              "        -8.38383838,  -8.18181818,  -7.97979798,  -7.77777778,\n",
              "        -7.57575758,  -7.37373737,  -7.17171717,  -6.96969697,\n",
              "        -6.76767677,  -6.56565657,  -6.36363636,  -6.16161616,\n",
              "        -5.95959596,  -5.75757576,  -5.55555556,  -5.35353535,\n",
              "        -5.15151515,  -4.94949495,  -4.74747475,  -4.54545455,\n",
              "        -4.34343434,  -4.14141414,  -3.93939394,  -3.73737374,\n",
              "        -3.53535354,  -3.33333333,  -3.13131313,  -2.92929293,\n",
              "        -2.72727273,  -2.52525253,  -2.32323232,  -2.12121212,\n",
              "        -1.91919192,  -1.71717172,  -1.51515152,  -1.31313131,\n",
              "        -1.11111111,  -0.90909091,  -0.70707071,  -0.50505051,\n",
              "        -0.3030303 ,  -0.1010101 ,   0.1010101 ,   0.3030303 ,\n",
              "         0.50505051,   0.70707071,   0.90909091,   1.11111111,\n",
              "         1.31313131,   1.51515152,   1.71717172,   1.91919192,\n",
              "         2.12121212,   2.32323232,   2.52525253,   2.72727273,\n",
              "         2.92929293,   3.13131313,   3.33333333,   3.53535354,\n",
              "         3.73737374,   3.93939394,   4.14141414,   4.34343434,\n",
              "         4.54545455,   4.74747475,   4.94949495,   5.15151515,\n",
              "         5.35353535,   5.55555556,   5.75757576,   5.95959596,\n",
              "         6.16161616,   6.36363636,   6.56565657,   6.76767677,\n",
              "         6.96969697,   7.17171717,   7.37373737,   7.57575758,\n",
              "         7.77777778,   7.97979798,   8.18181818,   8.38383838,\n",
              "         8.58585859,   8.78787879,   8.98989899,   9.19191919,\n",
              "         9.39393939,   9.5959596 ,   9.7979798 ,  10.        ])"
            ]
          },
          "metadata": {},
          "execution_count": 37
        }
      ]
    },
    {
      "cell_type": "markdown",
      "source": [
        " b) Calcula el valor de la función f(x)=e**(-x**2) para cada elemento de x."
      ],
      "metadata": {
        "id": "mxJumwd-QDws"
      }
    },
    {
      "cell_type": "code",
      "source": [
        "expo_x = np.exp(-x**2)\n",
        "expo_x"
      ],
      "metadata": {
        "colab": {
          "base_uri": "https://localhost:8080/"
        },
        "id": "8ege1P9VAJzV",
        "outputId": "537396c6-bf17-4a8f-902c-b5c2be64049e"
      },
      "execution_count": 40,
      "outputs": [
        {
          "output_type": "execute_result",
          "data": {
            "text/plain": [
              "array([3.72007598e-44, 2.03026390e-42, 1.02118442e-40, 4.73376699e-39,\n",
              "       2.02236984e-37, 7.96279046e-36, 2.88948872e-34, 9.66335032e-33,\n",
              "       2.97841666e-31, 8.46046409e-30, 2.21489900e-28, 5.34397817e-27,\n",
              "       1.18830091e-25, 2.43522554e-24, 4.59941880e-23, 8.00603952e-22,\n",
              "       1.28435035e-20, 1.89889213e-19, 2.58742690e-18, 3.24927813e-17,\n",
              "       3.76059612e-16, 4.01122945e-15, 3.94320471e-14, 3.57249927e-13,\n",
              "       2.98295005e-12, 2.29546576e-11, 1.62797100e-10, 1.06407812e-09,\n",
              "       6.40990174e-09, 3.55860870e-08, 1.82079103e-07, 8.58600196e-07,\n",
              "       3.73140910e-06, 1.49453385e-05, 5.51683065e-05, 1.87682835e-04,\n",
              "       5.88451217e-04, 1.70038545e-03, 4.52830117e-03, 1.11140983e-02,\n",
              "       2.51399360e-02, 5.24089078e-02, 1.00692485e-01, 1.78295348e-01,\n",
              "       2.90960459e-01, 4.37601640e-01, 6.06561603e-01, 7.74857597e-01,\n",
              "       9.12262625e-01, 9.89848834e-01, 9.89848834e-01, 9.12262625e-01,\n",
              "       7.74857597e-01, 6.06561603e-01, 4.37601640e-01, 2.90960459e-01,\n",
              "       1.78295348e-01, 1.00692485e-01, 5.24089078e-02, 2.51399360e-02,\n",
              "       1.11140983e-02, 4.52830117e-03, 1.70038545e-03, 5.88451217e-04,\n",
              "       1.87682835e-04, 5.51683065e-05, 1.49453385e-05, 3.73140910e-06,\n",
              "       8.58600196e-07, 1.82079103e-07, 3.55860870e-08, 6.40990174e-09,\n",
              "       1.06407812e-09, 1.62797100e-10, 2.29546576e-11, 2.98295005e-12,\n",
              "       3.57249927e-13, 3.94320471e-14, 4.01122945e-15, 3.76059612e-16,\n",
              "       3.24927813e-17, 2.58742690e-18, 1.89889213e-19, 1.28435035e-20,\n",
              "       8.00603952e-22, 4.59941880e-23, 2.43522554e-24, 1.18830091e-25,\n",
              "       5.34397817e-27, 2.21489900e-28, 8.46046409e-30, 2.97841666e-31,\n",
              "       9.66335032e-33, 2.88948872e-34, 7.96279046e-36, 2.02236984e-37,\n",
              "       4.73376699e-39, 1.02118442e-40, 2.03026390e-42, 3.72007598e-44])"
            ]
          },
          "metadata": {},
          "execution_count": 40
        }
      ]
    },
    {
      "cell_type": "markdown",
      "source": [
        "c) Encuentra el valor máximo y mínimo de f(x) y las posiciones en el array donde ocurren."
      ],
      "metadata": {
        "id": "8XeCgfCMQaKa"
      }
    },
    {
      "cell_type": "code",
      "source": [
        "max_value = np.max(expo_x)\n",
        "min_value = np.min(expo_x)\n",
        "\n",
        "max_index = np.argmax(expo_x)\n",
        "min_index = np.argmin(expo_x)\n",
        "\n",
        "# Mostrar los resultados\n",
        "print(\"Valor máximo:\", max_value)\n",
        "print(\"Valor mínimo:\", min_value)\n",
        "print(\"Posición del valor máximo:\", max_index)\n",
        "print(\"Posición del valor mínimo:\", min_index)"
      ],
      "metadata": {
        "colab": {
          "base_uri": "https://localhost:8080/"
        },
        "id": "rWHLEYp2AO5m",
        "outputId": "7a2e37a1-b888-4d19-9193-6443519c2fa2"
      },
      "execution_count": 41,
      "outputs": [
        {
          "output_type": "stream",
          "name": "stdout",
          "text": [
            "Valor máximo: 0.9898488339361309\n",
            "Valor mínimo: 3.720075976020836e-44\n",
            "Posición del valor máximo: 49\n",
            "Posición del valor mínimo: 0\n"
          ]
        }
      ]
    },
    {
      "cell_type": "code",
      "source": [],
      "metadata": {
        "id": "WEXflo3fStiP"
      },
      "execution_count": null,
      "outputs": []
    },
    {
      "cell_type": "markdown",
      "source": [
        "# **Pregunta 4: Indexación y Slicing Avanzado**"
      ],
      "metadata": {
        "id": "IEITbtHKAXQH"
      }
    },
    {
      "cell_type": "markdown",
      "source": [
        " Dado el siguiente array bidimensional:\n",
        "\n",
        " array = np.arange(1, 101).reshape(10, 10)\n",
        "\n",
        ""
      ],
      "metadata": {
        "id": "kW_Hr2PHQ8dl"
      }
    },
    {
      "cell_type": "markdown",
      "source": [
        " a) Extrae un subarray que contenga los elementos en posiciones pares de filas y columnas (es decir, filas y\n",
        " columnas con índices 0, 2, 4, 6, 8)."
      ],
      "metadata": {
        "id": "prpI2HDlRFlX"
      }
    },
    {
      "cell_type": "code",
      "source": [
        "array = np.arange(1, 101).reshape(10, 10)\n",
        "array"
      ],
      "metadata": {
        "colab": {
          "base_uri": "https://localhost:8080/"
        },
        "id": "qy06yJBVRG0y",
        "outputId": "7499d03f-ff06-43ea-ec57-d2247e3faa33"
      },
      "execution_count": 42,
      "outputs": [
        {
          "output_type": "execute_result",
          "data": {
            "text/plain": [
              "array([[  1,   2,   3,   4,   5,   6,   7,   8,   9,  10],\n",
              "       [ 11,  12,  13,  14,  15,  16,  17,  18,  19,  20],\n",
              "       [ 21,  22,  23,  24,  25,  26,  27,  28,  29,  30],\n",
              "       [ 31,  32,  33,  34,  35,  36,  37,  38,  39,  40],\n",
              "       [ 41,  42,  43,  44,  45,  46,  47,  48,  49,  50],\n",
              "       [ 51,  52,  53,  54,  55,  56,  57,  58,  59,  60],\n",
              "       [ 61,  62,  63,  64,  65,  66,  67,  68,  69,  70],\n",
              "       [ 71,  72,  73,  74,  75,  76,  77,  78,  79,  80],\n",
              "       [ 81,  82,  83,  84,  85,  86,  87,  88,  89,  90],\n",
              "       [ 91,  92,  93,  94,  95,  96,  97,  98,  99, 100]])"
            ]
          },
          "metadata": {},
          "execution_count": 42
        }
      ]
    },
    {
      "cell_type": "code",
      "source": [
        "subarray = array[::2, ::2]\n",
        "subarray"
      ],
      "metadata": {
        "colab": {
          "base_uri": "https://localhost:8080/"
        },
        "id": "PSWHFRr3RTqV",
        "outputId": "47a5383b-8c86-4c37-ef53-8960b144d5ee"
      },
      "execution_count": 43,
      "outputs": [
        {
          "output_type": "execute_result",
          "data": {
            "text/plain": [
              "array([[ 1,  3,  5,  7,  9],\n",
              "       [21, 23, 25, 27, 29],\n",
              "       [41, 43, 45, 47, 49],\n",
              "       [61, 63, 65, 67, 69],\n",
              "       [81, 83, 85, 87, 89]])"
            ]
          },
          "metadata": {},
          "execution_count": 43
        }
      ]
    },
    {
      "cell_type": "markdown",
      "source": [
        " b) Reemplaza todos los elementos que son múltiplos de 3 por-1."
      ],
      "metadata": {
        "id": "FoHxdY2XRXYB"
      }
    },
    {
      "cell_type": "code",
      "source": [
        "# Reemplazar los elementos que son múltiplos de 3 por -1\n",
        "array[array % 3 == 0] = -1\n",
        "array"
      ],
      "metadata": {
        "colab": {
          "base_uri": "https://localhost:8080/"
        },
        "id": "Cc-bK1psRppc",
        "outputId": "398b874e-9454-46e9-84d9-c8b09f2b7952"
      },
      "execution_count": 44,
      "outputs": [
        {
          "output_type": "execute_result",
          "data": {
            "text/plain": [
              "array([[  1,   2,  -1,   4,   5,  -1,   7,   8,  -1,  10],\n",
              "       [ 11,  -1,  13,  14,  -1,  16,  17,  -1,  19,  20],\n",
              "       [ -1,  22,  23,  -1,  25,  26,  -1,  28,  29,  -1],\n",
              "       [ 31,  32,  -1,  34,  35,  -1,  37,  38,  -1,  40],\n",
              "       [ 41,  -1,  43,  44,  -1,  46,  47,  -1,  49,  50],\n",
              "       [ -1,  52,  53,  -1,  55,  56,  -1,  58,  59,  -1],\n",
              "       [ 61,  62,  -1,  64,  65,  -1,  67,  68,  -1,  70],\n",
              "       [ 71,  -1,  73,  74,  -1,  76,  77,  -1,  79,  80],\n",
              "       [ -1,  82,  83,  -1,  85,  86,  -1,  88,  89,  -1],\n",
              "       [ 91,  92,  -1,  94,  95,  -1,  97,  98,  -1, 100]])"
            ]
          },
          "metadata": {},
          "execution_count": 44
        }
      ]
    },
    {
      "cell_type": "markdown",
      "source": [
        "c) Utiliza indexación avanzada para extraer todos los números primos del array original y crea un nuevo array con estos valores."
      ],
      "metadata": {
        "id": "mkl6o1xCSHZE"
      }
    },
    {
      "cell_type": "code",
      "source": [
        "def es_primo(num):\n",
        "    if num < 2:\n",
        "        return False\n",
        "    if num%2 == 0 and num > 2:\n",
        "        return False\n",
        "\n",
        "    for i in range(3, int(np.sqrt(num)) + 1, 2):\n",
        "        if num % i == 0:\n",
        "            return False\n",
        "    return True"
      ],
      "metadata": {
        "id": "YXGnE-ImSSn2"
      },
      "execution_count": null,
      "outputs": []
    },
    {
      "cell_type": "code",
      "source": [
        "mascara_primos = np.vectorize(es_primo)(array)\n",
        "mascara_primos"
      ],
      "metadata": {
        "colab": {
          "base_uri": "https://localhost:8080/"
        },
        "id": "UFq4KNoxRp_M",
        "outputId": "afa40242-68fa-4417-ef49-8a23e7a814c8"
      },
      "execution_count": 47,
      "outputs": [
        {
          "output_type": "execute_result",
          "data": {
            "text/plain": [
              "array([[False,  True, False, False,  True, False,  True, False, False,\n",
              "        False],\n",
              "       [ True, False,  True, False, False, False,  True, False,  True,\n",
              "        False],\n",
              "       [False, False,  True, False, False, False, False, False,  True,\n",
              "        False],\n",
              "       [ True, False, False, False, False, False,  True, False, False,\n",
              "        False],\n",
              "       [ True, False,  True, False, False, False,  True, False, False,\n",
              "        False],\n",
              "       [False, False,  True, False, False, False, False, False,  True,\n",
              "        False],\n",
              "       [ True, False, False, False, False, False,  True, False, False,\n",
              "        False],\n",
              "       [ True, False,  True, False, False, False, False, False,  True,\n",
              "        False],\n",
              "       [False, False,  True, False, False, False, False, False,  True,\n",
              "        False],\n",
              "       [False, False, False, False, False, False,  True, False, False,\n",
              "        False]])"
            ]
          },
          "metadata": {},
          "execution_count": 47
        }
      ]
    },
    {
      "cell_type": "code",
      "source": [
        "primos = array[mascara_primos]\n",
        "primos"
      ],
      "metadata": {
        "colab": {
          "base_uri": "https://localhost:8080/"
        },
        "id": "xRcV41w3TYPe",
        "outputId": "25a899ea-8500-4f8d-b3b9-b0b916e702b1"
      },
      "execution_count": 48,
      "outputs": [
        {
          "output_type": "execute_result",
          "data": {
            "text/plain": [
              "array([ 2,  5,  7, 11, 13, 17, 19, 23, 29, 31, 37, 41, 43, 47, 53, 59, 61,\n",
              "       67, 71, 73, 79, 83, 89, 97])"
            ]
          },
          "metadata": {},
          "execution_count": 48
        }
      ]
    },
    {
      "cell_type": "markdown",
      "source": [
        " # **Pregunta 5:**"
      ],
      "metadata": {
        "id": "2yrrLyMvT3NG"
      }
    },
    {
      "cell_type": "markdown",
      "source": [
        "a) Crea tres arrays unidimensionales de longitud 5 con números aleatorios entre 0 y 1."
      ],
      "metadata": {
        "id": "Nys53OsVT65J"
      }
    },
    {
      "cell_type": "code",
      "source": [
        "array1 = np.random.rand(5)\n",
        "array2 = np.random.rand(5)\n",
        "array3 = np.random.rand(5)\n",
        "\n",
        "print(\"Array 1:\", array1)\n",
        "print(\"Array 2:\", array2)\n",
        "print(\"Array 3:\", array3)"
      ],
      "metadata": {
        "colab": {
          "base_uri": "https://localhost:8080/"
        },
        "id": "jNLPhmYrT5ME",
        "outputId": "a76753c8-623b-4419-a256-ff9257a141be"
      },
      "execution_count": 49,
      "outputs": [
        {
          "output_type": "stream",
          "name": "stdout",
          "text": [
            "Array 1: [0.22536399 0.40837701 0.55776539 0.65694053 0.03450467]\n",
            "Array 2: [0.97280992 0.33045217 0.40637504 0.77592583 0.21481269]\n",
            "Array 3: [0.10217555 0.21195847 0.13227315 0.44311069 0.77912181]\n"
          ]
        }
      ]
    },
    {
      "cell_type": "markdown",
      "source": [
        "b) Combina estos arrays para formar una matriz de forma (5, 3)."
      ],
      "metadata": {
        "id": "uDMSXGPQUN8q"
      }
    },
    {
      "cell_type": "code",
      "source": [
        "matriz = np.column_stack((array1, array2, array3))\n",
        "print(\"Matriz combinada:\", matriz)"
      ],
      "metadata": {
        "colab": {
          "base_uri": "https://localhost:8080/"
        },
        "id": "257-LeDcTwci",
        "outputId": "f8a01f82-5d65-4563-a800-de1c0bd4437c"
      },
      "execution_count": 50,
      "outputs": [
        {
          "output_type": "stream",
          "name": "stdout",
          "text": [
            "Matriz combinada: [[0.22536399 0.97280992 0.10217555]\n",
            " [0.40837701 0.33045217 0.21195847]\n",
            " [0.55776539 0.40637504 0.13227315]\n",
            " [0.65694053 0.77592583 0.44311069]\n",
            " [0.03450467 0.21481269 0.77912181]]\n"
          ]
        }
      ]
    },
    {
      "cell_type": "markdown",
      "source": [
        "c) Agrega una columna de unos al principio de la matriz resultante, obteniendo una matriz de forma (5, 4)."
      ],
      "metadata": {
        "id": "7Kd_HpPkRqDY"
      }
    },
    {
      "cell_type": "code",
      "source": [
        "columna_unos = np.ones((matriz.shape[0], 1))\n",
        "columna_unos"
      ],
      "metadata": {
        "colab": {
          "base_uri": "https://localhost:8080/"
        },
        "id": "EGAn2nJ1IRTY",
        "outputId": "1e5947ea-ca9f-4fa1-9d9c-a8a09c3fb37d"
      },
      "execution_count": 51,
      "outputs": [
        {
          "output_type": "execute_result",
          "data": {
            "text/plain": [
              "array([[1.],\n",
              "       [1.],\n",
              "       [1.],\n",
              "       [1.],\n",
              "       [1.]])"
            ]
          },
          "metadata": {},
          "execution_count": 51
        }
      ]
    },
    {
      "cell_type": "code",
      "source": [
        "matriz_con_unos = np.column_stack((columna_unos, matriz))\n",
        "matriz_con_unos"
      ],
      "metadata": {
        "colab": {
          "base_uri": "https://localhost:8080/"
        },
        "id": "Wxb3CBFSU3KT",
        "outputId": "c541427f-bf31-4db3-a7b1-8da1d93fe397"
      },
      "execution_count": 52,
      "outputs": [
        {
          "output_type": "execute_result",
          "data": {
            "text/plain": [
              "array([[1.        , 0.22536399, 0.97280992, 0.10217555],\n",
              "       [1.        , 0.40837701, 0.33045217, 0.21195847],\n",
              "       [1.        , 0.55776539, 0.40637504, 0.13227315],\n",
              "       [1.        , 0.65694053, 0.77592583, 0.44311069],\n",
              "       [1.        , 0.03450467, 0.21481269, 0.77912181]])"
            ]
          },
          "metadata": {},
          "execution_count": 52
        }
      ]
    },
    {
      "cell_type": "markdown",
      "source": [
        " d) Reordena las columnas de la matriz para que la columna de unos esté al final.\n"
      ],
      "metadata": {
        "id": "y00WB4bqU_n9"
      }
    },
    {
      "cell_type": "code",
      "source": [
        "matriz_reordenada = matriz_con_unos[:, [1, 2, 3, 0]]\n",
        "matriz_reordenada"
      ],
      "metadata": {
        "colab": {
          "base_uri": "https://localhost:8080/"
        },
        "id": "OzQ8a9PzVHZA",
        "outputId": "84e1d25c-d92a-461a-87c3-62021bc7ab31"
      },
      "execution_count": 53,
      "outputs": [
        {
          "output_type": "execute_result",
          "data": {
            "text/plain": [
              "array([[0.22536399, 0.97280992, 0.10217555, 1.        ],\n",
              "       [0.40837701, 0.33045217, 0.21195847, 1.        ],\n",
              "       [0.55776539, 0.40637504, 0.13227315, 1.        ],\n",
              "       [0.65694053, 0.77592583, 0.44311069, 1.        ],\n",
              "       [0.03450467, 0.21481269, 0.77912181, 1.        ]])"
            ]
          },
          "metadata": {},
          "execution_count": 53
        }
      ]
    },
    {
      "cell_type": "markdown",
      "source": [
        "#  **Pregunta 6:**"
      ],
      "metadata": {
        "id": "hVG_AM_dVOD2"
      }
    },
    {
      "cell_type": "markdown",
      "source": [
        " a) Crea una matriz simétrica positiva definida de tamaño 3x3."
      ],
      "metadata": {
        "id": "Rm_DKcAJVWoF"
      }
    },
    {
      "cell_type": "code",
      "source": [
        "A = np.random.rand(3, 3)\n",
        "matriz_simetrica_positiva_definida = np.dot(A, A.T)\n",
        "matriz_simetrica_positiva_definida"
      ],
      "metadata": {
        "colab": {
          "base_uri": "https://localhost:8080/"
        },
        "id": "FFnMpRUoVS19",
        "outputId": "ec906670-fe6d-4cae-b107-d4f98c453c7c"
      },
      "execution_count": 54,
      "outputs": [
        {
          "output_type": "execute_result",
          "data": {
            "text/plain": [
              "array([[1.20306789, 1.01130045, 0.90575028],\n",
              "       [1.01130045, 1.2115518 , 0.87618187],\n",
              "       [0.90575028, 0.87618187, 0.72891112]])"
            ]
          },
          "metadata": {},
          "execution_count": 54
        }
      ]
    },
    {
      "cell_type": "markdown",
      "source": [
        " b) Calcula sus valores y vectores propios (eigenvalores y eigenvectores)."
      ],
      "metadata": {
        "id": "tkgcC24MVtno"
      }
    },
    {
      "cell_type": "code",
      "source": [
        "eigenvalores, eigenvectores = np.linalg.eig(matriz_simetrica_positiva_definida)\n",
        "\n",
        "print(\"Eigenvalores:\", eigenvalores)\n",
        "print(\"Eigenvectores:\\n\", eigenvectores)"
      ],
      "metadata": {
        "colab": {
          "base_uri": "https://localhost:8080/"
        },
        "id": "doHf7P60WBdb",
        "outputId": "a9e1eed4-908b-4e23-ab8a-7e8a05e1b557"
      },
      "execution_count": 55,
      "outputs": [
        {
          "output_type": "stream",
          "name": "stdout",
          "text": [
            "Eigenvalores: [2.93748527 0.19817556 0.00786998]\n",
            "Eigenvectores:\n",
            " [[-0.61589643 -0.66402623 -0.42395843]\n",
            " [-0.61245224  0.74205067 -0.27251248]\n",
            " [-0.49555407 -0.09181483  0.86371071]]\n"
          ]
        }
      ]
    },
    {
      "cell_type": "markdown",
      "source": [
        "c) Verifica que la multiplicación de la matriz original por un vector propio es igual al producto del eigenvalor correspondiente por el vector propio.\n",
        "\n"
      ],
      "metadata": {
        "id": "CnYr6M90WKnB"
      }
    },
    {
      "cell_type": "code",
      "source": [
        "eigenvalor0 = eigenvalores[0]\n",
        "v = eigenvectores[:, 0]\n",
        "\n",
        "# Verificar que A * v es igual a eigenvalor0 * v\n",
        "resultado_multiplicacion = np.dot(matriz_simetrica_positiva_definida, v)\n",
        "producto_eigenvalor = eigenvalor0 * v\n",
        "\n",
        "print(\"Resultado de A * v:\\n\", resultado_multiplicacion)\n",
        "print(\"Producto de eigenvalor0 * v:\\n\", producto_eigenvalor)"
      ],
      "metadata": {
        "colab": {
          "base_uri": "https://localhost:8080/"
        },
        "id": "l0-2sN9UWbNs",
        "outputId": "b4cdd060-9747-460c-b44e-cd8ad922d239"
      },
      "execution_count": 57,
      "outputs": [
        {
          "output_type": "stream",
          "name": "stdout",
          "text": [
            "Resultado de A * v:\n",
            " [-1.80918669 -1.79906945 -1.45568279]\n",
            "Producto de eigenvalor0 * v:\n",
            " [-1.80918669 -1.79906945 -1.45568279]\n"
          ]
        }
      ]
    },
    {
      "cell_type": "markdown",
      "source": [
        "#  **Pregunta 7:**"
      ],
      "metadata": {
        "id": "HHpCkOPrW7L_"
      }
    },
    {
      "cell_type": "markdown",
      "source": [
        "a) Construye un sistema de ecuaciones lineales con tres ecuaciones y tres incógnitas donde la matriz de coeficientes es singular (no invertible)."
      ],
      "metadata": {
        "id": "RvQMInYfXDv1"
      }
    },
    {
      "cell_type": "code",
      "source": [
        "A = np.array([[1, 2, 3],\n",
        "              [2, 4, 6],\n",
        "              [3, 5, 7]])\n",
        "\n",
        "b = np.array([6, 12, 18]) #vector de resultados"
      ],
      "metadata": {
        "id": "2Fb1FmbCXN0m"
      },
      "execution_count": 58,
      "outputs": []
    },
    {
      "cell_type": "code",
      "source": [
        "# Calcular el determinante de A para verificar que es singular (determinante debe ser cero)\n",
        "determinante = np.linalg.det(A)\n",
        "determinante"
      ],
      "metadata": {
        "colab": {
          "base_uri": "https://localhost:8080/"
        },
        "id": "KETo-LihXoIY",
        "outputId": "7b45ed01-3fab-4d3d-eb29-e8331e48c8dc"
      },
      "execution_count": 60,
      "outputs": [
        {
          "output_type": "execute_result",
          "data": {
            "text/plain": [
              "0.0"
            ]
          },
          "metadata": {},
          "execution_count": 60
        }
      ]
    },
    {
      "cell_type": "markdown",
      "source": [
        "b) Intenta resolver el sistema utilizando np.linalg.solve() y explica el resultado obtenido."
      ],
      "metadata": {
        "id": "mB4o9eiaXsdB"
      }
    },
    {
      "cell_type": "code",
      "source": [
        "try:\n",
        "  solucion = np.linalg.solve(A, b)\n",
        "except:\n",
        "  print(\"El sistema no tiene solucion una solución única por ser una matriz singular\")"
      ],
      "metadata": {
        "colab": {
          "base_uri": "https://localhost:8080/"
        },
        "id": "H4OD3kTmX1E1",
        "outputId": "049df171-0ce4-473d-b390-b8af56b852e2"
      },
      "execution_count": 63,
      "outputs": [
        {
          "output_type": "stream",
          "name": "stdout",
          "text": [
            "El sistema no tiene solucion una solución única por ser una matriz singular\n"
          ]
        }
      ]
    },
    {
      "cell_type": "markdown",
      "source": [
        "#  **Pregunta 8:**"
      ],
      "metadata": {
        "id": "lzcLBk9ZYIHD"
      }
    },
    {
      "cell_type": "markdown",
      "source": [
        "a) Crea un array de forma (4, 4, 4) con números enteros aleatorios entre 0 y 100."
      ],
      "metadata": {
        "id": "rpvPP2WbX4i7"
      }
    },
    {
      "cell_type": "code",
      "source": [
        "array = np.random.randint(0, 101, size=(4, 4, 4))\n",
        "array"
      ],
      "metadata": {
        "colab": {
          "base_uri": "https://localhost:8080/"
        },
        "id": "yWVRz7SAXrZH",
        "outputId": "fadad326-a6c9-4376-b28d-08fa56abc44c"
      },
      "execution_count": 64,
      "outputs": [
        {
          "output_type": "execute_result",
          "data": {
            "text/plain": [
              "array([[[  1,   4,  44,  92],\n",
              "        [ 57,  55,  11,  38],\n",
              "        [ 84,  93,  97,  90],\n",
              "        [ 93,  76,  55,  40]],\n",
              "\n",
              "       [[ 30,  19,  87,  50],\n",
              "        [ 15,  43,  37,  40],\n",
              "        [ 54,  62,  91,  34],\n",
              "        [ 97,  94,  79,  61]],\n",
              "\n",
              "       [[ 62,  89,  14,  68],\n",
              "        [ 36,  62,  44,  12],\n",
              "        [ 39,  95,   0,  56],\n",
              "        [ 44,  56,  67,  95]],\n",
              "\n",
              "       [[ 70,  65,   9,  70],\n",
              "        [ 51,   8,  74, 100],\n",
              "        [ 94,  50,  28,  71],\n",
              "        [ 83,  31,  18,  26]]])"
            ]
          },
          "metadata": {},
          "execution_count": 64
        }
      ]
    },
    {
      "cell_type": "markdown",
      "source": [
        "b) Calcula la suma a lo largo del eje 0, obteniendo un array de forma (4, 4)."
      ],
      "metadata": {
        "id": "S2hcAvyhYZt_"
      }
    },
    {
      "cell_type": "code",
      "source": [
        "suma_eje_0 = np.sum(array, axis=0)\n",
        "suma_eje_0"
      ],
      "metadata": {
        "colab": {
          "base_uri": "https://localhost:8080/"
        },
        "id": "14WwMaoaYiob",
        "outputId": "34eff65f-0954-452c-db2f-d687157a51b4"
      },
      "execution_count": 65,
      "outputs": [
        {
          "output_type": "execute_result",
          "data": {
            "text/plain": [
              "array([[163, 177, 154, 280],\n",
              "       [159, 168, 166, 190],\n",
              "       [271, 300, 216, 251],\n",
              "       [317, 257, 219, 222]])"
            ]
          },
          "metadata": {},
          "execution_count": 65
        }
      ]
    },
    {
      "cell_type": "markdown",
      "source": [
        " c) Calcula el promedio a lo largo del eje 1, obteniendo un array de forma (4, 4)."
      ],
      "metadata": {
        "id": "jrJZwER2Yqha"
      }
    },
    {
      "cell_type": "code",
      "source": [
        "promedio_eje_1 = np.mean(array, axis=1)\n",
        "promedio_eje_1"
      ],
      "metadata": {
        "colab": {
          "base_uri": "https://localhost:8080/"
        },
        "id": "lY9HUvXvYhgn",
        "outputId": "49d08d12-52af-4d12-f5f5-fa278589900b"
      },
      "execution_count": 66,
      "outputs": [
        {
          "output_type": "execute_result",
          "data": {
            "text/plain": [
              "array([[58.75, 57.  , 51.75, 65.  ],\n",
              "       [49.  , 54.5 , 73.5 , 46.25],\n",
              "       [45.25, 75.5 , 31.25, 57.75],\n",
              "       [74.5 , 38.5 , 32.25, 66.75]])"
            ]
          },
          "metadata": {},
          "execution_count": 66
        }
      ]
    },
    {
      "cell_type": "markdown",
      "source": [
        " d) Reestructura el array original en una nueva forma de (8, 8) sin perder datos."
      ],
      "metadata": {
        "id": "zH5YhrZoZBA-"
      }
    },
    {
      "cell_type": "code",
      "source": [
        "nuevo_array = array.reshape(8, 8)\n",
        "nuevo_array"
      ],
      "metadata": {
        "colab": {
          "base_uri": "https://localhost:8080/"
        },
        "id": "SwIjNZBXZC6p",
        "outputId": "91c729af-3c13-40ae-b9a2-a6b9c84ff52c"
      },
      "execution_count": 68,
      "outputs": [
        {
          "output_type": "execute_result",
          "data": {
            "text/plain": [
              "array([[  1,   4,  44,  92,  57,  55,  11,  38],\n",
              "       [ 84,  93,  97,  90,  93,  76,  55,  40],\n",
              "       [ 30,  19,  87,  50,  15,  43,  37,  40],\n",
              "       [ 54,  62,  91,  34,  97,  94,  79,  61],\n",
              "       [ 62,  89,  14,  68,  36,  62,  44,  12],\n",
              "       [ 39,  95,   0,  56,  44,  56,  67,  95],\n",
              "       [ 70,  65,   9,  70,  51,   8,  74, 100],\n",
              "       [ 94,  50,  28,  71,  83,  31,  18,  26]])"
            ]
          },
          "metadata": {},
          "execution_count": 68
        }
      ]
    },
    {
      "cell_type": "markdown",
      "source": [
        " # **Pregunta 9:**"
      ],
      "metadata": {
        "id": "4iB0zKsRZUS4"
      }
    },
    {
      "cell_type": "markdown",
      "source": [
        " Se define una secuencia de números donde cada elemento es el factorial del índice correspondiente.\n",
        " Formalmente:\n",
        " an = n! para n=1,2,...10"
      ],
      "metadata": {
        "id": "KhN_6A9pZV1b"
      }
    },
    {
      "cell_type": "markdown",
      "source": [
        "a) Usando NumPy, crea un array que contenga los primeros 10 elementos de esta secuencia sin utilizar bucles\n",
        " explícitos."
      ],
      "metadata": {
        "id": "wQmY5W1xZgR_"
      }
    },
    {
      "cell_type": "code",
      "source": [
        "indices = np.arange(1, 11)\n",
        "factoriales = np.vectorize(np.math.factorial)(indices)\n",
        "factoriales"
      ],
      "metadata": {
        "colab": {
          "base_uri": "https://localhost:8080/"
        },
        "id": "vTSrsLlDZU-H",
        "outputId": "73589ff0-808d-459b-c2e9-dcc0a0a96761"
      },
      "execution_count": 70,
      "outputs": [
        {
          "output_type": "stream",
          "name": "stderr",
          "text": [
            "<ipython-input-70-a5eda17736ec>:2: DeprecationWarning: `np.math` is a deprecated alias for the standard library `math` module (Deprecated Numpy 1.25). Replace usages of `np.math` with `math`\n",
            "  factoriales = np.vectorize(np.math.factorial)(indices)\n"
          ]
        },
        {
          "output_type": "execute_result",
          "data": {
            "text/plain": [
              "array([      1,       2,       6,      24,     120,     720,    5040,\n",
              "         40320,  362880, 3628800])"
            ]
          },
          "metadata": {},
          "execution_count": 70
        }
      ]
    },
    {
      "cell_type": "markdown",
      "source": [
        " b) Calcula la suma de todos los elementos del array creado.\n"
      ],
      "metadata": {
        "id": "t4krP5T0aM2j"
      }
    },
    {
      "cell_type": "code",
      "source": [
        "suma_total = np.sum(factoriales)\n",
        "suma_total"
      ],
      "metadata": {
        "colab": {
          "base_uri": "https://localhost:8080/"
        },
        "id": "-nHxuIH0aWDx",
        "outputId": "27e12860-6cd3-4eb9-832c-3422782caf61"
      },
      "execution_count": 71,
      "outputs": [
        {
          "output_type": "execute_result",
          "data": {
            "text/plain": [
              "4037913"
            ]
          },
          "metadata": {},
          "execution_count": 71
        }
      ]
    },
    {
      "cell_type": "markdown",
      "source": [
        " c) Dado que los factoriales pueden ser números muy grandes, cambia el tipo de datos del array a object para\n",
        " manejar enteros arbitrariamente grandes y recalcula la suma."
      ],
      "metadata": {
        "id": "gp4WI8pFacwy"
      }
    },
    {
      "cell_type": "code",
      "source": [
        "factoriales_object = factoriales.astype(object)\n",
        "suma_total_object = np.sum(factoriales_object)\n",
        "suma_total_object"
      ],
      "metadata": {
        "colab": {
          "base_uri": "https://localhost:8080/"
        },
        "id": "wYcxTACNalH7",
        "outputId": "00c84f6a-86a4-446e-b45f-f2920f2480ff"
      },
      "execution_count": 72,
      "outputs": [
        {
          "output_type": "execute_result",
          "data": {
            "text/plain": [
              "4037913"
            ]
          },
          "metadata": {},
          "execution_count": 72
        }
      ]
    },
    {
      "cell_type": "markdown",
      "source": [
        "#  **Pregunta 10:**\n"
      ],
      "metadata": {
        "id": "eZmkTYFSavlT"
      }
    },
    {
      "cell_type": "markdown",
      "source": [
        " a) Simula un conjunto de datos que represente las alturas (en cm) de 500 personas, siguiendo una distribución\n",
        " normal con media 170 y desviación estándar 10."
      ],
      "metadata": {
        "id": "SGbNROKHbISF"
      }
    },
    {
      "cell_type": "code",
      "source": [
        "media = 170\n",
        "desviacion_estandar = 10\n",
        "num_personas = 500\n",
        "\n",
        "alturas = np.random.normal(loc=media, scale=desviacion_estandar, size=num_personas)\n",
        "alturas"
      ],
      "metadata": {
        "colab": {
          "base_uri": "https://localhost:8080/"
        },
        "id": "x54TwXUobK6N",
        "outputId": "47982e19-bea0-4aef-d9e8-090696582697"
      },
      "execution_count": 73,
      "outputs": [
        {
          "output_type": "execute_result",
          "data": {
            "text/plain": [
              "array([187.15687846, 175.60486627, 158.29600121, 181.94496148,\n",
              "       175.03570284, 166.56008962, 172.59732401, 170.49912803,\n",
              "       175.08383126, 172.91260522, 170.86485593, 156.58146426,\n",
              "       149.95410369, 171.25455208, 165.20424948, 177.42354922,\n",
              "       174.13987088, 180.1953497 , 174.29058423, 169.12680757,\n",
              "       185.25421933, 177.15414587, 161.59230211, 166.61243091,\n",
              "       194.92858203, 185.12789741, 182.30600627, 146.88637471,\n",
              "       178.83224073, 162.11439542, 194.86209129, 142.99271847,\n",
              "       185.11303864, 161.26993281, 162.7806434 , 184.44529172,\n",
              "       168.40130148, 170.54359661, 188.19864667, 154.09697356,\n",
              "       168.31778977, 182.22250619, 157.22712551, 178.2104702 ,\n",
              "       163.16259756, 183.10550959, 148.61085619, 173.72572961,\n",
              "       178.01604373, 154.222904  , 174.44592745, 156.40502121,\n",
              "       163.42117603, 169.72967526, 169.83523222, 168.0303808 ,\n",
              "       186.67607493, 164.24060496, 177.18037383, 164.56394992,\n",
              "       181.28130583, 172.62340514, 161.80184627, 184.78572646,\n",
              "       168.13359514, 170.81506441, 185.73511671, 154.2537274 ,\n",
              "       173.16496255, 186.71779942, 181.98103611, 168.22834318,\n",
              "       172.46746818, 177.37437581, 176.01961579, 171.42032286,\n",
              "       178.47249094, 182.8324067 , 170.90359549, 184.60557392,\n",
              "       155.35927837, 172.17343813, 156.52516858, 162.21321812,\n",
              "       166.32432828, 162.58626628, 170.57087716, 154.19198673,\n",
              "       161.75168049, 181.2901159 , 165.42997623, 169.58703026,\n",
              "       176.90877266, 185.1201603 , 171.89601966, 174.48827075,\n",
              "       180.18844088, 161.72994754, 173.12860149, 158.87089123,\n",
              "       170.72510401, 164.56859002, 178.6875842 , 172.82003831,\n",
              "       166.87500142, 149.77324624, 162.40752929, 159.0078274 ,\n",
              "       150.1912983 , 152.44597417, 170.25355134, 150.77869688,\n",
              "       169.63941215, 190.69723875, 169.52816216, 181.4544138 ,\n",
              "       171.90574325, 164.84873969, 181.09746165, 195.07976262,\n",
              "       169.67171882, 182.57136304, 163.41297982, 179.76521517,\n",
              "       178.04768829, 172.5352365 , 162.71246339, 167.1791984 ,\n",
              "       161.41935427, 170.82454124, 165.68346643, 155.33321953,\n",
              "       170.42320892, 160.3776621 , 168.98426817, 175.45943531,\n",
              "       156.43997557, 170.96576679, 173.53340087, 174.5891842 ,\n",
              "       177.28520124, 165.73196713, 168.08676162, 167.60909356,\n",
              "       180.77463777, 173.90143231, 164.34827461, 168.75530148,\n",
              "       170.83075838, 168.46633613, 175.20306092, 186.10607464,\n",
              "       176.62653533, 175.26226944, 178.61349082, 172.52143075,\n",
              "       167.62259355, 158.23453729, 170.9368423 , 165.73784595,\n",
              "       149.8530659 , 168.72758234, 171.38830813, 161.6067735 ,\n",
              "       166.33597599, 167.65081376, 179.75934976, 176.74713148,\n",
              "       171.79539872, 176.31736141, 142.93503743, 183.0581277 ,\n",
              "       165.61210488, 164.23721065, 172.89797814, 152.81543689,\n",
              "       162.20957537, 171.41369972, 155.05407258, 171.19578105,\n",
              "       178.66600794, 166.19864011, 162.47846517, 170.22215531,\n",
              "       176.13485687, 169.29397379, 173.60817961, 152.78041314,\n",
              "       156.53016677, 164.83915991, 154.80209251, 149.12777719,\n",
              "       190.17833734, 176.78054419, 184.58818907, 158.28689017,\n",
              "       176.97037717, 180.67826434, 181.05087752, 178.83240743,\n",
              "       173.36146812, 161.1576194 , 178.96407268, 186.74791438,\n",
              "       170.00804851, 176.95014807, 173.58965906, 163.43409381,\n",
              "       160.21833341, 169.01584229, 175.29362747, 162.49228882,\n",
              "       165.50387158, 177.81631498, 165.02796722, 187.06077177,\n",
              "       173.71508573, 174.00569479, 170.49155389, 168.39439682,\n",
              "       151.83799739, 172.58376207, 181.40317563, 174.45998325,\n",
              "       157.42271005, 181.93957701, 181.01495957, 178.95226843,\n",
              "       176.5468917 , 167.85728324, 177.46741002, 179.42346545,\n",
              "       175.98144304, 172.79354428, 174.66371893, 180.28982235,\n",
              "       182.48459738, 171.02115844, 177.77441568, 164.01090501,\n",
              "       172.73202587, 192.06070477, 163.77944163, 157.06736738,\n",
              "       158.24866826, 170.01022697, 173.10926274, 176.58224943,\n",
              "       163.16995086, 179.30617448, 162.97320818, 171.22540877,\n",
              "       170.64575345, 175.41248464, 166.40450433, 163.88872713,\n",
              "       163.12324884, 179.48409923, 164.96257047, 173.90139594,\n",
              "       172.79931143, 168.62968242, 170.09839219, 184.10629339,\n",
              "       150.66043077, 176.98186821, 187.47954359, 167.08156163,\n",
              "       163.44011864, 180.49643099, 161.40225478, 156.13871094,\n",
              "       153.32278228, 191.33531258, 183.47883812, 161.16678133,\n",
              "       172.19244333, 168.48477911, 159.40373156, 173.05968952,\n",
              "       175.7910338 , 165.33720672, 174.90059519, 166.43376591,\n",
              "       181.75513579, 159.13147299, 166.31206544, 173.30114251,\n",
              "       169.72612439, 177.56356201, 166.37933818, 174.07259074,\n",
              "       158.0789383 , 166.54864582, 161.80813388, 186.07725659,\n",
              "       162.17713119, 168.84710611, 175.22275716, 184.66613547,\n",
              "       173.54846983, 173.39813094, 161.71740338, 175.17906605,\n",
              "       167.09464377, 174.40527651, 179.8071453 , 169.18072088,\n",
              "       180.56997726, 162.09889363, 160.59167586, 186.26314753,\n",
              "       170.51997751, 162.14491538, 174.16952337, 179.57549525,\n",
              "       155.39615599, 173.3135866 , 177.54357403, 183.72034067,\n",
              "       168.99974092, 181.69156493, 174.17502299, 166.96210199,\n",
              "       173.94459964, 166.85056385, 170.20098669, 166.93518662,\n",
              "       189.15621241, 179.07843835, 177.39723339, 176.49762521,\n",
              "       165.73235475, 178.13333946, 161.62801278, 186.26792914,\n",
              "       151.79006203, 181.68275003, 166.53966925, 164.47001256,\n",
              "       174.68558245, 174.34588309, 156.28297039, 167.2362319 ,\n",
              "       180.51539512, 154.45904658, 178.56480762, 175.00292205,\n",
              "       174.6126419 , 160.913748  , 176.57707655, 164.40333506,\n",
              "       166.64792627, 174.95329441, 163.52618569, 194.81888829,\n",
              "       170.41485822, 169.99434091, 184.54370875, 171.59489757,\n",
              "       179.20938379, 194.15597498, 179.58801893, 159.6031462 ,\n",
              "       172.64186405, 161.00573764, 158.64287093, 169.14825632,\n",
              "       150.19976063, 169.34373069, 182.92609493, 169.16121692,\n",
              "       175.67244744, 171.60948968, 163.46595537, 166.81199982,\n",
              "       188.43856882, 177.36501064, 162.90641651, 177.10902839,\n",
              "       179.07157079, 152.53562891, 150.27917387, 176.45113503,\n",
              "       163.66193989, 166.49135226, 168.68427559, 172.2218412 ,\n",
              "       180.12709219, 179.44052073, 162.98526114, 162.51169214,\n",
              "       183.61922508, 157.92784205, 170.17608867, 170.23064594,\n",
              "       168.1739659 , 175.77782075, 177.07718432, 172.85516183,\n",
              "       173.99142935, 174.70393911, 179.44481642, 187.58019133,\n",
              "       177.59034606, 180.46761479, 181.48408996, 187.56626796,\n",
              "       171.9207776 , 161.77521155, 164.19028628, 167.14792744,\n",
              "       173.78908218, 168.01223245, 160.10387679, 170.16900519,\n",
              "       183.68315187, 170.93223331, 168.3176673 , 172.02427586,\n",
              "       170.96499054, 170.80426437, 173.46344678, 160.79204409,\n",
              "       175.29770033, 154.39022326, 156.47011566, 167.1025192 ,\n",
              "       184.59879672, 156.7502865 , 158.3926066 , 167.72261797,\n",
              "       169.78743524, 164.80747079, 156.50709163, 171.70752593,\n",
              "       166.27479063, 163.45075444, 156.87421245, 169.67033008,\n",
              "       180.24330217, 168.86297768, 180.00819517, 185.062934  ,\n",
              "       162.95675014, 168.2404356 , 175.96759141, 161.15553242,\n",
              "       173.79832883, 182.03942512, 159.45682049, 166.59882791,\n",
              "       161.89530693, 156.83514941, 167.3167476 , 155.55099241,\n",
              "       156.75480278, 155.08158465, 183.74516221, 172.10985061,\n",
              "       168.22076489, 171.73923796, 164.81999263, 176.67004699,\n",
              "       172.51847587, 167.56747123, 170.53262852, 172.91435436,\n",
              "       166.22012253, 177.14480351, 157.35161719, 162.52350308,\n",
              "       173.48341714, 177.25613508, 161.36998638, 174.30920261,\n",
              "       156.88446911, 166.47805246, 163.70534826, 178.10508462,\n",
              "       177.24221651, 158.17885836, 171.27887187, 176.09643801,\n",
              "       176.02058975, 180.08274634, 178.52148031, 185.20774055,\n",
              "       168.23386961, 172.2708693 , 163.81446035, 156.28394358,\n",
              "       170.9402156 , 172.71977888, 167.09011315, 184.4521269 ,\n",
              "       169.4554251 , 168.07672549, 161.18518119, 169.21283235])"
            ]
          },
          "metadata": {},
          "execution_count": 73
        }
      ]
    },
    {
      "cell_type": "markdown",
      "source": [
        " c) Encuentra cuántas personas miden más de 180 cm y menos de 160 cm."
      ],
      "metadata": {
        "id": "ubGcjrYUbf6u"
      }
    },
    {
      "cell_type": "code",
      "source": [
        "mas_de_180 = np.sum(alturas > 180)\n",
        "menos_de_160 = np.sum(alturas < 160)\n",
        "\n",
        "print(f\"Cantidad de personas que miden más de 180 cm: {mas_de_180}\")\n",
        "print(f\"Cantidad de personas que miden menos de 160 cm: {menos_de_160}\")"
      ],
      "metadata": {
        "colab": {
          "base_uri": "https://localhost:8080/"
        },
        "id": "Rbc_NjQEbmpu",
        "outputId": "87c5c70e-5713-426f-eae5-2208cd592217"
      },
      "execution_count": 74,
      "outputs": [
        {
          "output_type": "stream",
          "name": "stdout",
          "text": [
            "Cantidad de personas que miden más de 180 cm: 81\n",
            "Cantidad de personas que miden menos de 160 cm: 67\n"
          ]
        }
      ]
    },
    {
      "cell_type": "markdown",
      "source": [
        " d) Normaliza los datos de altura para que tengan media 0 y desviación estándar 1."
      ],
      "metadata": {
        "id": "QC__Gq4Obw1E"
      }
    },
    {
      "cell_type": "code",
      "source": [
        "alturas_normalizadas = (alturas - np.mean(alturas)) / np.std(alturas)\n",
        "alturas_normalizadas"
      ],
      "metadata": {
        "colab": {
          "base_uri": "https://localhost:8080/"
        },
        "id": "F9N4tMtHbkaJ",
        "outputId": "0eeee510-c486-4b5a-e702-45e9de6f3c18"
      },
      "execution_count": 75,
      "outputs": [
        {
          "output_type": "execute_result",
          "data": {
            "text/plain": [
              "array([ 1.75452085e+00,  5.33006764e-01, -1.29723910e+00,  1.20341080e+00,\n",
              "        4.72823209e-01, -4.23391304e-01,  2.14988119e-01, -6.87590811e-03,\n",
              "        4.77912327e-01,  2.48326073e-01,  3.17962965e-02, -1.47853488e+00,\n",
              "       -2.17931447e+00,  7.30029131e-02, -5.66758347e-01,  7.25314979e-01,\n",
              "        3.78097603e-01,  1.01840620e+00,  3.94034089e-01, -1.51985587e-01,\n",
              "        1.55333297e+00,  6.96828167e-01, -9.48687013e-01, -4.17856716e-01,\n",
              "        2.57630370e+00,  1.53997564e+00,  1.24158781e+00, -2.50369728e+00,\n",
              "        8.74270546e-01, -8.93480671e-01,  2.56927294e+00, -2.91541395e+00,\n",
              "        1.53840447e+00, -9.82774464e-01, -8.23031361e-01,  1.46779666e+00,\n",
              "       -2.28700873e-01, -2.17378366e-03,  1.86467781e+00, -1.74124586e+00,\n",
              "       -2.37531432e-01,  1.23275848e+00, -1.41026242e+00,  8.08524298e-01,\n",
              "       -7.82643385e-01,  1.32612759e+00, -2.32134996e+00,  3.34306150e-01,\n",
              "        7.87965570e-01, -1.72792993e+00,  4.10460139e-01, -1.49719204e+00,\n",
              "       -7.55301201e-01, -8.82381322e-02, -7.70764992e-02, -2.67922164e-01,\n",
              "        1.70368051e+00, -6.68654480e-01,  6.99601522e-01, -6.34463862e-01,\n",
              "        1.13323561e+00,  2.17745948e-01, -9.26529736e-01,  1.50379435e+00,\n",
              "       -2.57008241e-01,  2.65313222e-02,  1.60418323e+00, -1.72467065e+00,\n",
              "        2.75010431e-01,  1.70809247e+00,  1.20722535e+00, -2.46989548e-01,\n",
              "        2.01257115e-01,  7.20115364e-01,  5.76862532e-01,  9.05315779e-02,\n",
              "        8.36230468e-01,  1.29724959e+00,  3.58926322e-02,  1.48474496e+00,\n",
              "       -1.60776928e+00,  1.70166268e-01, -1.48448761e+00, -8.83031123e-01,\n",
              "       -4.48320795e-01, -8.43584870e-01,  7.10871591e-04, -1.73119913e+00,\n",
              "       -9.31834284e-01,  1.13416719e+00, -5.42889916e-01, -1.03321467e-01,\n",
              "        6.70882313e-01,  1.53915751e+00,  1.40831935e-01,  4.14937535e-01,\n",
              "        1.01767566e+00, -9.34132334e-01,  2.71165599e-01, -1.23645002e+00,\n",
              "        1.70188768e-02, -6.33973216e-01,  8.58974511e-01,  2.38538013e-01,\n",
              "       -3.90092412e-01, -2.19843840e+00, -8.62484586e-01, -1.22197034e+00,\n",
              "       -2.15423342e+00, -1.91582315e+00, -3.28432790e-02, -2.09212168e+00,\n",
              "       -9.77825871e-02,  2.12887988e+00, -1.09546203e-01,  1.15154011e+00,\n",
              "        1.41860111e-01, -6.04350086e-01,  1.11379585e+00,  2.59228959e+00,\n",
              "       -9.43664682e-02,  1.26964674e+00, -7.56167872e-01,  9.72923612e-01,\n",
              "        7.91311677e-01,  2.08422963e-01, -8.30240741e-01, -3.57926510e-01,\n",
              "       -9.66974582e-01,  2.75334067e-02, -5.16085768e-01, -1.61052475e+00,\n",
              "       -1.49036232e-02, -1.07712350e+00, -1.67057757e-01,  5.17628839e-01,\n",
              "       -1.49349595e+00,  4.24666483e-02,  3.13969237e-01,  4.25608161e-01,\n",
              "        7.10686012e-01, -5.10957286e-01, -2.61960436e-01, -3.12469234e-01,\n",
              "        1.07966034e+00,  3.52885019e-01, -6.57269451e-01, -1.91268780e-01,\n",
              "        2.81908092e-02, -2.21824085e-01,  4.90519715e-01,  1.64340847e+00,\n",
              "        6.41038432e-01,  4.96780447e-01,  8.51139848e-01,  2.06963138e-01,\n",
              "       -3.11041740e-01, -1.30373832e+00,  3.94081623e-02, -5.10335657e-01,\n",
              "       -2.18999824e+00, -1.94199813e-01,  8.71463278e-02, -9.47156803e-01,\n",
              "       -4.47089163e-01, -3.08057725e-01,  9.72303402e-01,  6.53790314e-01,\n",
              "        1.30192239e-01,  6.08346266e-01, -2.92151316e+00,  1.32111742e+00,\n",
              "       -5.23631565e-01, -6.69013395e-01,  2.46779400e-01, -1.87675603e+00,\n",
              "       -8.83416309e-01,  8.98312440e-02, -1.64004185e+00,  6.67884424e-02,\n",
              "        8.56693029e-01, -4.61611110e-01, -8.54983800e-01, -3.61631075e-02,\n",
              "        5.89048167e-01, -1.34309368e-01,  3.21876369e-01, -1.88045945e+00,\n",
              "       -1.48395910e+00, -6.05363055e-01, -1.66668632e+00, -2.26669054e+00,\n",
              "        2.07401105e+00,  6.57323387e-01,  1.48290668e+00, -1.29820251e+00,\n",
              "        6.77396396e-01,  1.06946977e+00,  1.10887003e+00,  8.74288173e-01,\n",
              "        2.95789003e-01, -9.94650526e-01,  8.88210506e-01,  1.71127684e+00,\n",
              "       -5.88028404e-02,  6.75257365e-01,  3.19917999e-01, -7.53935270e-01,\n",
              "       -1.09397098e+00, -1.63719098e-01,  5.00096256e-01, -8.53522082e-01,\n",
              "       -5.35076194e-01,  7.66846177e-01, -5.85398499e-01,  1.74435850e+00,\n",
              "        3.33180662e-01,  3.63909773e-01, -7.67680068e-03, -2.29430974e-01,\n",
              "       -1.98011084e+00,  2.13554075e-01,  1.14612216e+00,  4.11946405e-01,\n",
              "       -1.38958124e+00,  1.20284145e+00,  1.10507205e+00,  8.86962320e-01,\n",
              "        6.32616884e-01, -2.86225565e-01,  7.29952837e-01,  9.36786869e-01,\n",
              "        5.72826132e-01,  2.35736525e-01,  4.33489492e-01,  1.02839577e+00,\n",
              "        1.26047211e+00,  4.83237820e-02,  7.62415730e-01, -6.92943038e-01,\n",
              "        2.29231545e-01,  2.27305328e+00, -7.17418062e-01, -1.42715530e+00,\n",
              "       -1.30224411e+00, -5.85724896e-02,  2.69120713e-01,  6.36355625e-01,\n",
              "       -7.81865844e-01,  9.24384478e-01, -8.02669489e-01,  6.99212887e-02,\n",
              "        8.62831797e-03,  5.12664258e-01, -4.39842950e-01, -7.05862172e-01,\n",
              "       -7.86804134e-01,  9.43198308e-01, -5.92313577e-01,  3.52881174e-01,\n",
              "        2.36346345e-01, -2.04551786e-01, -4.92498664e-02,  1.43195085e+00,\n",
              "       -2.10462718e+00,  6.78611464e-01,  1.78863959e+00, -3.68250658e-01,\n",
              "       -7.53298202e-01,  1.05024265e+00, -9.68782689e-01, -1.52535178e+00,\n",
              "       -1.82310913e+00,  2.19635004e+00,  1.36560349e+00, -9.93681740e-01,\n",
              "        1.72175885e-01, -2.19873917e-01, -1.18010728e+00,  2.63878822e-01,\n",
              "        5.52692187e-01, -5.52699399e-01,  4.58536876e-01, -4.36748820e-01,\n",
              "        1.18333856e+00, -1.20889601e+00, -4.49617474e-01,  2.89410151e-01,\n",
              "       -8.86136020e-02,  7.40119983e-01, -4.42504029e-01,  3.70983376e-01,\n",
              "       -1.32019142e+00, -4.24601375e-01, -9.25864881e-01,  1.64036123e+00,\n",
              "       -8.86846968e-01, -1.81561325e-01,  4.92602403e-01,  1.49114876e+00,\n",
              "        3.15562634e-01,  2.99665743e-01, -9.35458758e-01,  4.87982488e-01,\n",
              "       -3.66867348e-01,  4.06161694e-01,  9.77357320e-01, -1.46284773e-01,\n",
              "        1.05801946e+00, -8.95119837e-01, -1.05449361e+00,  1.66001741e+00,\n",
              "       -4.67127644e-03, -8.90253480e-01,  3.81233068e-01,  9.52862558e-01,\n",
              "       -1.60386982e+00,  2.90725994e-01,  7.38006447e-01,  1.39114006e+00,\n",
              "       -1.65421662e-01,  1.17661656e+00,  3.81814600e-01, -3.80882366e-01,\n",
              "        3.57449548e-01, -3.92676449e-01, -3.84014848e-02, -3.83728407e-01,\n",
              "        1.96593117e+00,  9.00303575e-01,  7.22532333e-01,  6.27407428e-01,\n",
              "       -5.10916299e-01,  8.00368464e-01, -9.44910954e-01,  1.66052302e+00,\n",
              "       -1.98517955e+00,  1.17568447e+00, -4.25550561e-01, -6.44396834e-01,\n",
              "        4.35801349e-01,  3.99881411e-01, -1.51009774e+00, -3.51895765e-01,\n",
              "        1.05224792e+00, -1.70296012e+00,  8.45992070e-01,  4.69356957e-01,\n",
              "        4.28088587e-01, -1.02043758e+00,  6.35808642e-01, -6.51447337e-01,\n",
              "       -4.14103424e-01,  4.64109311e-01, -7.44197440e-01,  2.56470464e+00,\n",
              "       -1.57866291e-02, -6.02522868e-02,  1.47820331e+00,  1.08991173e-01,\n",
              "        9.14149794e-01,  2.49460794e+00,  9.54186816e-01, -1.15902110e+00,\n",
              "        2.19697800e-01, -1.01071056e+00, -1.26056097e+00, -1.49717589e-01,\n",
              "       -2.15333861e+00, -1.29048055e-01,  1.30715622e+00, -1.48347130e-01,\n",
              "        5.40152822e-01,  1.10534148e-01, -7.50566217e-01, -3.96754225e-01,\n",
              "        1.89004727e+00,  7.19125087e-01, -8.09732066e-01,  6.92057429e-01,\n",
              "        8.99577396e-01, -1.90634303e+00, -2.14494143e+00,  6.22491539e-01,\n",
              "       -7.29842741e-01, -4.30659618e-01, -1.98779085e-01,  1.75284427e-01,\n",
              "        1.01118862e+00,  9.38590301e-01, -8.01395005e-01, -8.51470368e-01,\n",
              "        1.38044806e+00, -1.33616839e+00, -4.10342108e-02, -3.52653055e-02,\n",
              "       -2.52739422e-01,  5.51295034e-01,  6.88690224e-01,  2.42251987e-01,\n",
              "        3.62401340e-01,  4.37742388e-01,  9.39044529e-01,  1.79928212e+00,\n",
              "        7.42952139e-01,  1.04719561e+00,  1.15467808e+00,  1.79780985e+00,\n",
              "        1.43449849e-01, -9.29346100e-01, -6.73975196e-01, -3.61233113e-01,\n",
              "        3.41005074e-01, -2.69841178e-01, -1.10607366e+00, -4.17832213e-02,\n",
              "        1.38720771e+00,  3.89208055e-02, -2.37544382e-01,  1.54393794e-01,\n",
              "        4.23845672e-02,  2.53893222e-02,  3.06572266e-01, -1.03330660e+00,\n",
              "        5.00526922e-01, -1.71023753e+00, -1.49030893e+00, -3.66034597e-01,\n",
              "        1.48402833e+00, -1.46068356e+00, -1.28702401e+00, -3.00465121e-01,\n",
              "       -8.21305698e-02, -6.08713874e-01, -1.48639907e+00,  1.20900538e-01,\n",
              "       -4.53558925e-01, -7.52173568e-01, -1.44757958e+00, -9.45133138e-02,\n",
              "        1.02347671e+00, -1.79883058e-01,  9.98616409e-01,  1.53310638e+00,\n",
              "       -8.04409768e-01, -2.45710891e-01,  5.71361455e-01, -9.94871204e-01,\n",
              "        3.41982818e-01,  1.21339942e+00, -1.17449364e+00, -4.19295102e-01,\n",
              "       -9.16647171e-01, -1.45171012e+00, -3.43382005e-01, -1.58749736e+00,\n",
              "       -1.46020600e+00, -1.63713271e+00,  1.39376470e+00,  1.63442500e-01,\n",
              "       -2.47790879e-01,  1.24253780e-01, -6.07389811e-01,  6.45639372e-01,\n",
              "        2.06650688e-01, -3.16870396e-01, -3.33355439e-03,  2.48511027e-01,\n",
              "       -4.59339551e-01,  6.95840303e-01, -1.39709862e+00, -8.50221474e-01,\n",
              "        3.08683939e-01,  7.07612545e-01, -9.72194762e-01,  3.96002803e-01,\n",
              "       -1.44649504e+00, -4.32065943e-01, -7.25252724e-01,  7.97380787e-01,\n",
              "        7.06140790e-01, -1.30962583e+00,  7.55744966e-02,  5.84985743e-01,\n",
              "        5.76965519e-01,  1.00649948e+00,  8.41410624e-01,  1.54841828e+00,\n",
              "       -2.46405181e-01,  1.80468677e-01, -7.13715170e-01, -1.50999483e+00,\n",
              "        3.97648568e-02,  2.27936543e-01, -3.67346417e-01,  1.46851941e+00,\n",
              "       -1.17237447e-01, -2.63021660e-01, -9.91736132e-01, -1.42889295e-01])"
            ]
          },
          "metadata": {},
          "execution_count": 75
        }
      ]
    },
    {
      "cell_type": "code",
      "source": [],
      "metadata": {
        "id": "oWV8ObAyb_Q4"
      },
      "execution_count": null,
      "outputs": []
    }
  ]
}