{
  "nbformat": 4,
  "nbformat_minor": 0,
  "metadata": {
    "colab": {
      "provenance": [],
      "authorship_tag": "ABX9TyPVBtx2apEYg2FNu5YKZsYC",
      "include_colab_link": true
    },
    "kernelspec": {
      "name": "python3",
      "display_name": "Python 3"
    },
    "language_info": {
      "name": "python"
    }
  },
  "cells": [
    {
      "cell_type": "markdown",
      "metadata": {
        "id": "view-in-github",
        "colab_type": "text"
      },
      "source": [
        "<a href=\"https://colab.research.google.com/github/RogerReateguiUTEC/Tareas_Programacion101/blob/main/TAREAS/EXAMEN3_ROGER_REATEGUI.ipynb\" target=\"_parent\"><img src=\"https://colab.research.google.com/assets/colab-badge.svg\" alt=\"Open In Colab\"/></a>"
      ]
    },
    {
      "cell_type": "markdown",
      "source": [
        "# Examen 3 - ROGER REATEGUI SOTO"
      ],
      "metadata": {
        "id": "5hF0m4IN-r5a"
      }
    },
    {
      "cell_type": "markdown",
      "source": [
        " # **Pregunta 1:**"
      ],
      "metadata": {
        "id": "86PXIdu0_EPN"
      }
    },
    {
      "cell_type": "markdown",
      "source": [
        "a) Crea un array unidimensional que contenga los números primos entre 1 y 50."
      ],
      "metadata": {
        "id": "w0_E6TQzKI69"
      }
    },
    {
      "cell_type": "code",
      "source": [
        "import numpy as np"
      ],
      "metadata": {
        "id": "wr2EygWYKNv_"
      },
      "execution_count": 18,
      "outputs": []
    },
    {
      "cell_type": "code",
      "source": [
        "numeros = np.arange(1, 51)\n",
        "\n",
        "def es_primo(num):\n",
        "    if num < 2:\n",
        "        return False\n",
        "    if num%2 == 0 and num > 2:\n",
        "        return False\n",
        "\n",
        "    for i in range(3, int(np.sqrt(num)) + 1, 2):\n",
        "        if num % i == 0:\n",
        "            return False\n",
        "    return True\n",
        "\n",
        "primos = np.array([i for i in numeros if es_primo(i)])\n",
        "primos"
      ],
      "metadata": {
        "colab": {
          "base_uri": "https://localhost:8080/"
        },
        "id": "rfl2HzsoKh8I",
        "outputId": "aaf9e957-50d6-49a8-d51b-2ff082750e02"
      },
      "execution_count": 45,
      "outputs": [
        {
          "output_type": "execute_result",
          "data": {
            "text/plain": [
              "array([ 2,  3,  5,  7, 11, 13, 17, 19, 23, 29, 31, 37, 41, 43, 47])"
            ]
          },
          "metadata": {},
          "execution_count": 45
        }
      ]
    },
    {
      "cell_type": "markdown",
      "source": [
        "b) Convierte el array unidimensional anterior en una matriz de forma (n, 2), donde n es el número adecuado de filas. Si es necesario, agrega ceros al final del array para completar la matriz."
      ],
      "metadata": {
        "id": "_u_Sp44fMnKm"
      }
    },
    {
      "cell_type": "code",
      "source": [
        "# Calcular cuántos ceros necesitamos agregar\n",
        "n_elementos = primos.size\n",
        "\n",
        "if n_elementos % 2 != 0:\n",
        "    # Si el número de elementos no es par, agregar un cero\n",
        "    primos = np.append(primos, 0)\n",
        "\n",
        "# Redimensionar el array a la forma (n, 2)\n",
        "matriz_reshaped = primos.reshape(-1, 2)\n",
        "\n",
        "print(matriz_reshaped)"
      ],
      "metadata": {
        "colab": {
          "base_uri": "https://localhost:8080/"
        },
        "id": "_XrkuOGwMvt3",
        "outputId": "5c9826be-56e1-45f3-a734-c6be413169a7"
      },
      "execution_count": 25,
      "outputs": [
        {
          "output_type": "stream",
          "name": "stdout",
          "text": [
            "[[ 2  3]\n",
            " [ 5  7]\n",
            " [11 13]\n",
            " [17 19]\n",
            " [23 29]\n",
            " [31 37]\n",
            " [41 43]\n",
            " [47  0]]\n"
          ]
        }
      ]
    },
    {
      "cell_type": "markdown",
      "source": [
        " c) Calcula la suma de cada fila y crea un nuevo array que contenga estos valores."
      ],
      "metadata": {
        "id": "YQqT28bINZ8A"
      }
    },
    {
      "cell_type": "code",
      "source": [
        "suma_filas = np.sum(matriz_reshaped, axis=1)\n",
        "suma_filas #cada elemento de este array es la suma de las filas de matriz_reshaped"
      ],
      "metadata": {
        "colab": {
          "base_uri": "https://localhost:8080/"
        },
        "id": "2skMOygONhvf",
        "outputId": "d4159a70-b846-49ea-d75a-b2665ab659c2"
      },
      "execution_count": 27,
      "outputs": [
        {
          "output_type": "execute_result",
          "data": {
            "text/plain": [
              "array([ 5, 12, 24, 36, 52, 68, 84, 47])"
            ]
          },
          "metadata": {},
          "execution_count": 27
        }
      ]
    },
    {
      "cell_type": "code",
      "source": [],
      "metadata": {
        "id": "ncJcJ_9NSrCc"
      },
      "execution_count": null,
      "outputs": []
    },
    {
      "cell_type": "markdown",
      "source": [
        "#  **Pregunta 2:**"
      ],
      "metadata": {
        "id": "S547A03SNqz4"
      }
    },
    {
      "cell_type": "markdown",
      "source": [
        " a) Crea un array bidimensional de forma (4, 4) que contenga números enteros aleatorios entre 1 y 100."
      ],
      "metadata": {
        "id": "8qTnN8-TNSox"
      }
    },
    {
      "cell_type": "code",
      "source": [
        "array_bidimensional = np.random.randint(1, 101, size=(4, 4))\n",
        "array_bidimensional"
      ],
      "metadata": {
        "colab": {
          "base_uri": "https://localhost:8080/"
        },
        "id": "rd6-mCTDNQ_w",
        "outputId": "8413a88d-8ed3-4e05-f881-36aa77ed35a7"
      },
      "execution_count": 32,
      "outputs": [
        {
          "output_type": "execute_result",
          "data": {
            "text/plain": [
              "array([[57, 22, 33, 95],\n",
              "       [19, 90, 84, 39],\n",
              "       [32, 39, 72, 11],\n",
              "       [ 6, 21, 32, 73]])"
            ]
          },
          "metadata": {},
          "execution_count": 32
        }
      ]
    },
    {
      "cell_type": "markdown",
      "source": [
        " b) Cambia el tipo de datos del array a float64 y divide todos los elementos or 3.7."
      ],
      "metadata": {
        "id": "orAbZixoPDc_"
      }
    },
    {
      "cell_type": "code",
      "source": [
        "array_bidimensional = array_bidimensional.astype(np.float64)\n",
        "array_bidimensional"
      ],
      "metadata": {
        "colab": {
          "base_uri": "https://localhost:8080/"
        },
        "id": "KnQmfR2rOqoe",
        "outputId": "e4bf4de0-e55b-4c48-dac5-9cd8264c08bc"
      },
      "execution_count": 33,
      "outputs": [
        {
          "output_type": "execute_result",
          "data": {
            "text/plain": [
              "array([[57., 22., 33., 95.],\n",
              "       [19., 90., 84., 39.],\n",
              "       [32., 39., 72., 11.],\n",
              "       [ 6., 21., 32., 73.]])"
            ]
          },
          "metadata": {},
          "execution_count": 33
        }
      ]
    },
    {
      "cell_type": "code",
      "source": [
        "array_resultado = array_bidimensional / 3.7\n",
        "array_resultado"
      ],
      "metadata": {
        "colab": {
          "base_uri": "https://localhost:8080/"
        },
        "id": "8GzAREv8O1zl",
        "outputId": "0b5db44c-5e3d-4759-bcfe-8e46af329174"
      },
      "execution_count": 35,
      "outputs": [
        {
          "output_type": "execute_result",
          "data": {
            "text/plain": [
              "array([[15.40540541,  5.94594595,  8.91891892, 25.67567568],\n",
              "       [ 5.13513514, 24.32432432, 22.7027027 , 10.54054054],\n",
              "       [ 8.64864865, 10.54054054, 19.45945946,  2.97297297],\n",
              "       [ 1.62162162,  5.67567568,  8.64864865, 19.72972973]])"
            ]
          },
          "metadata": {},
          "execution_count": 35
        }
      ]
    },
    {
      "cell_type": "markdown",
      "source": [
        "c) Calcula y muestra las siguientes propiedades del array resultante:\n",
        "\n",
        "* Dimensiones (ndim)\n",
        "* Forma(shape)\n",
        "* Tamañototal (size)\n",
        "* Tipodedatos (dtype)"
      ],
      "metadata": {
        "id": "idAAlUyCMkrB"
      }
    },
    {
      "cell_type": "code",
      "source": [
        "print(\"Dimensiones (ndim):\", array_resultado.ndim)\n",
        "print(\"Forma (shape):\", array_resultado.shape)\n",
        "print(\"Tamaño total (size):\", array_resultado.size)\n",
        "print(\"Tipo de datos (dtype):\", array_resultado.dtype)"
      ],
      "metadata": {
        "colab": {
          "base_uri": "https://localhost:8080/"
        },
        "id": "bODdqNubKsD2",
        "outputId": "f1abf875-6b03-4d7a-87ab-1116bfbcf053"
      },
      "execution_count": 36,
      "outputs": [
        {
          "output_type": "stream",
          "name": "stdout",
          "text": [
            "Dimensiones (ndim): 2\n",
            "Forma (shape): (4, 4)\n",
            "Tamaño total (size): 16\n",
            "Tipo de datos (dtype): float64\n"
          ]
        }
      ]
    },
    {
      "cell_type": "code",
      "source": [],
      "metadata": {
        "id": "dxQjX-E5SsnG"
      },
      "execution_count": null,
      "outputs": []
    },
    {
      "cell_type": "markdown",
      "source": [
        "# **Pregunta 3:**"
      ],
      "metadata": {
        "id": "8jVdI1nQPirn"
      }
    },
    {
      "cell_type": "markdown",
      "source": [
        " a) Crea un array x que contenga 100 valores equiespaciados entre-10 y 10."
      ],
      "metadata": {
        "id": "gGjFzKjY_FfP"
      }
    },
    {
      "cell_type": "code",
      "source": [
        "x = np.linspace(-10, 10, 100)\n",
        "x"
      ],
      "metadata": {
        "colab": {
          "base_uri": "https://localhost:8080/"
        },
        "id": "hX3JUlDfPzud",
        "outputId": "0c450ee5-847d-498a-e841-0dc2bc3a2d68"
      },
      "execution_count": 37,
      "outputs": [
        {
          "output_type": "execute_result",
          "data": {
            "text/plain": [
              "array([-10.        ,  -9.7979798 ,  -9.5959596 ,  -9.39393939,\n",
              "        -9.19191919,  -8.98989899,  -8.78787879,  -8.58585859,\n",
              "        -8.38383838,  -8.18181818,  -7.97979798,  -7.77777778,\n",
              "        -7.57575758,  -7.37373737,  -7.17171717,  -6.96969697,\n",
              "        -6.76767677,  -6.56565657,  -6.36363636,  -6.16161616,\n",
              "        -5.95959596,  -5.75757576,  -5.55555556,  -5.35353535,\n",
              "        -5.15151515,  -4.94949495,  -4.74747475,  -4.54545455,\n",
              "        -4.34343434,  -4.14141414,  -3.93939394,  -3.73737374,\n",
              "        -3.53535354,  -3.33333333,  -3.13131313,  -2.92929293,\n",
              "        -2.72727273,  -2.52525253,  -2.32323232,  -2.12121212,\n",
              "        -1.91919192,  -1.71717172,  -1.51515152,  -1.31313131,\n",
              "        -1.11111111,  -0.90909091,  -0.70707071,  -0.50505051,\n",
              "        -0.3030303 ,  -0.1010101 ,   0.1010101 ,   0.3030303 ,\n",
              "         0.50505051,   0.70707071,   0.90909091,   1.11111111,\n",
              "         1.31313131,   1.51515152,   1.71717172,   1.91919192,\n",
              "         2.12121212,   2.32323232,   2.52525253,   2.72727273,\n",
              "         2.92929293,   3.13131313,   3.33333333,   3.53535354,\n",
              "         3.73737374,   3.93939394,   4.14141414,   4.34343434,\n",
              "         4.54545455,   4.74747475,   4.94949495,   5.15151515,\n",
              "         5.35353535,   5.55555556,   5.75757576,   5.95959596,\n",
              "         6.16161616,   6.36363636,   6.56565657,   6.76767677,\n",
              "         6.96969697,   7.17171717,   7.37373737,   7.57575758,\n",
              "         7.77777778,   7.97979798,   8.18181818,   8.38383838,\n",
              "         8.58585859,   8.78787879,   8.98989899,   9.19191919,\n",
              "         9.39393939,   9.5959596 ,   9.7979798 ,  10.        ])"
            ]
          },
          "metadata": {},
          "execution_count": 37
        }
      ]
    },
    {
      "cell_type": "markdown",
      "source": [
        " b) Calcula el valor de la función f(x)=e**(-x**2) para cada elemento de x."
      ],
      "metadata": {
        "id": "mxJumwd-QDws"
      }
    },
    {
      "cell_type": "code",
      "source": [
        "expo_x = np.exp(-x**2)\n",
        "expo_x"
      ],
      "metadata": {
        "colab": {
          "base_uri": "https://localhost:8080/"
        },
        "id": "8ege1P9VAJzV",
        "outputId": "537396c6-bf17-4a8f-902c-b5c2be64049e"
      },
      "execution_count": 40,
      "outputs": [
        {
          "output_type": "execute_result",
          "data": {
            "text/plain": [
              "array([3.72007598e-44, 2.03026390e-42, 1.02118442e-40, 4.73376699e-39,\n",
              "       2.02236984e-37, 7.96279046e-36, 2.88948872e-34, 9.66335032e-33,\n",
              "       2.97841666e-31, 8.46046409e-30, 2.21489900e-28, 5.34397817e-27,\n",
              "       1.18830091e-25, 2.43522554e-24, 4.59941880e-23, 8.00603952e-22,\n",
              "       1.28435035e-20, 1.89889213e-19, 2.58742690e-18, 3.24927813e-17,\n",
              "       3.76059612e-16, 4.01122945e-15, 3.94320471e-14, 3.57249927e-13,\n",
              "       2.98295005e-12, 2.29546576e-11, 1.62797100e-10, 1.06407812e-09,\n",
              "       6.40990174e-09, 3.55860870e-08, 1.82079103e-07, 8.58600196e-07,\n",
              "       3.73140910e-06, 1.49453385e-05, 5.51683065e-05, 1.87682835e-04,\n",
              "       5.88451217e-04, 1.70038545e-03, 4.52830117e-03, 1.11140983e-02,\n",
              "       2.51399360e-02, 5.24089078e-02, 1.00692485e-01, 1.78295348e-01,\n",
              "       2.90960459e-01, 4.37601640e-01, 6.06561603e-01, 7.74857597e-01,\n",
              "       9.12262625e-01, 9.89848834e-01, 9.89848834e-01, 9.12262625e-01,\n",
              "       7.74857597e-01, 6.06561603e-01, 4.37601640e-01, 2.90960459e-01,\n",
              "       1.78295348e-01, 1.00692485e-01, 5.24089078e-02, 2.51399360e-02,\n",
              "       1.11140983e-02, 4.52830117e-03, 1.70038545e-03, 5.88451217e-04,\n",
              "       1.87682835e-04, 5.51683065e-05, 1.49453385e-05, 3.73140910e-06,\n",
              "       8.58600196e-07, 1.82079103e-07, 3.55860870e-08, 6.40990174e-09,\n",
              "       1.06407812e-09, 1.62797100e-10, 2.29546576e-11, 2.98295005e-12,\n",
              "       3.57249927e-13, 3.94320471e-14, 4.01122945e-15, 3.76059612e-16,\n",
              "       3.24927813e-17, 2.58742690e-18, 1.89889213e-19, 1.28435035e-20,\n",
              "       8.00603952e-22, 4.59941880e-23, 2.43522554e-24, 1.18830091e-25,\n",
              "       5.34397817e-27, 2.21489900e-28, 8.46046409e-30, 2.97841666e-31,\n",
              "       9.66335032e-33, 2.88948872e-34, 7.96279046e-36, 2.02236984e-37,\n",
              "       4.73376699e-39, 1.02118442e-40, 2.03026390e-42, 3.72007598e-44])"
            ]
          },
          "metadata": {},
          "execution_count": 40
        }
      ]
    },
    {
      "cell_type": "markdown",
      "source": [
        "c) Encuentra el valor máximo y mínimo de f(x) y las posiciones en el array donde ocurren."
      ],
      "metadata": {
        "id": "8XeCgfCMQaKa"
      }
    },
    {
      "cell_type": "code",
      "source": [
        "max_value = np.max(expo_x)\n",
        "min_value = np.min(expo_x)\n",
        "\n",
        "max_index = np.argmax(expo_x)\n",
        "min_index = np.argmin(expo_x)\n",
        "\n",
        "# Mostrar los resultados\n",
        "print(\"Valor máximo:\", max_value)\n",
        "print(\"Valor mínimo:\", min_value)\n",
        "print(\"Posición del valor máximo:\", max_index)\n",
        "print(\"Posición del valor mínimo:\", min_index)"
      ],
      "metadata": {
        "colab": {
          "base_uri": "https://localhost:8080/"
        },
        "id": "rWHLEYp2AO5m",
        "outputId": "7a2e37a1-b888-4d19-9193-6443519c2fa2"
      },
      "execution_count": 41,
      "outputs": [
        {
          "output_type": "stream",
          "name": "stdout",
          "text": [
            "Valor máximo: 0.9898488339361309\n",
            "Valor mínimo: 3.720075976020836e-44\n",
            "Posición del valor máximo: 49\n",
            "Posición del valor mínimo: 0\n"
          ]
        }
      ]
    },
    {
      "cell_type": "code",
      "source": [],
      "metadata": {
        "id": "WEXflo3fStiP"
      },
      "execution_count": null,
      "outputs": []
    },
    {
      "cell_type": "markdown",
      "source": [
        "# **Pregunta 4: Indexación y Slicing Avanzado**"
      ],
      "metadata": {
        "id": "IEITbtHKAXQH"
      }
    },
    {
      "cell_type": "markdown",
      "source": [
        " Dado el siguiente array bidimensional:\n",
        "\n",
        " array = np.arange(1, 101).reshape(10, 10)\n",
        "\n",
        ""
      ],
      "metadata": {
        "id": "kW_Hr2PHQ8dl"
      }
    },
    {
      "cell_type": "markdown",
      "source": [
        " a) Extrae un subarray que contenga los elementos en posiciones pares de filas y columnas (es decir, filas y\n",
        " columnas con índices 0, 2, 4, 6, 8)."
      ],
      "metadata": {
        "id": "prpI2HDlRFlX"
      }
    },
    {
      "cell_type": "code",
      "source": [
        "array = np.arange(1, 101).reshape(10, 10)\n",
        "array"
      ],
      "metadata": {
        "colab": {
          "base_uri": "https://localhost:8080/"
        },
        "id": "qy06yJBVRG0y",
        "outputId": "7499d03f-ff06-43ea-ec57-d2247e3faa33"
      },
      "execution_count": 42,
      "outputs": [
        {
          "output_type": "execute_result",
          "data": {
            "text/plain": [
              "array([[  1,   2,   3,   4,   5,   6,   7,   8,   9,  10],\n",
              "       [ 11,  12,  13,  14,  15,  16,  17,  18,  19,  20],\n",
              "       [ 21,  22,  23,  24,  25,  26,  27,  28,  29,  30],\n",
              "       [ 31,  32,  33,  34,  35,  36,  37,  38,  39,  40],\n",
              "       [ 41,  42,  43,  44,  45,  46,  47,  48,  49,  50],\n",
              "       [ 51,  52,  53,  54,  55,  56,  57,  58,  59,  60],\n",
              "       [ 61,  62,  63,  64,  65,  66,  67,  68,  69,  70],\n",
              "       [ 71,  72,  73,  74,  75,  76,  77,  78,  79,  80],\n",
              "       [ 81,  82,  83,  84,  85,  86,  87,  88,  89,  90],\n",
              "       [ 91,  92,  93,  94,  95,  96,  97,  98,  99, 100]])"
            ]
          },
          "metadata": {},
          "execution_count": 42
        }
      ]
    },
    {
      "cell_type": "code",
      "source": [
        "subarray = array[::2, ::2]\n",
        "subarray"
      ],
      "metadata": {
        "colab": {
          "base_uri": "https://localhost:8080/"
        },
        "id": "PSWHFRr3RTqV",
        "outputId": "47a5383b-8c86-4c37-ef53-8960b144d5ee"
      },
      "execution_count": 43,
      "outputs": [
        {
          "output_type": "execute_result",
          "data": {
            "text/plain": [
              "array([[ 1,  3,  5,  7,  9],\n",
              "       [21, 23, 25, 27, 29],\n",
              "       [41, 43, 45, 47, 49],\n",
              "       [61, 63, 65, 67, 69],\n",
              "       [81, 83, 85, 87, 89]])"
            ]
          },
          "metadata": {},
          "execution_count": 43
        }
      ]
    },
    {
      "cell_type": "markdown",
      "source": [
        " b) Reemplaza todos los elementos que son múltiplos de 3 por-1."
      ],
      "metadata": {
        "id": "FoHxdY2XRXYB"
      }
    },
    {
      "cell_type": "code",
      "source": [
        "# Reemplazar los elementos que son múltiplos de 3 por -1\n",
        "array[array % 3 == 0] = -1\n",
        "array"
      ],
      "metadata": {
        "colab": {
          "base_uri": "https://localhost:8080/"
        },
        "id": "Cc-bK1psRppc",
        "outputId": "398b874e-9454-46e9-84d9-c8b09f2b7952"
      },
      "execution_count": 44,
      "outputs": [
        {
          "output_type": "execute_result",
          "data": {
            "text/plain": [
              "array([[  1,   2,  -1,   4,   5,  -1,   7,   8,  -1,  10],\n",
              "       [ 11,  -1,  13,  14,  -1,  16,  17,  -1,  19,  20],\n",
              "       [ -1,  22,  23,  -1,  25,  26,  -1,  28,  29,  -1],\n",
              "       [ 31,  32,  -1,  34,  35,  -1,  37,  38,  -1,  40],\n",
              "       [ 41,  -1,  43,  44,  -1,  46,  47,  -1,  49,  50],\n",
              "       [ -1,  52,  53,  -1,  55,  56,  -1,  58,  59,  -1],\n",
              "       [ 61,  62,  -1,  64,  65,  -1,  67,  68,  -1,  70],\n",
              "       [ 71,  -1,  73,  74,  -1,  76,  77,  -1,  79,  80],\n",
              "       [ -1,  82,  83,  -1,  85,  86,  -1,  88,  89,  -1],\n",
              "       [ 91,  92,  -1,  94,  95,  -1,  97,  98,  -1, 100]])"
            ]
          },
          "metadata": {},
          "execution_count": 44
        }
      ]
    },
    {
      "cell_type": "markdown",
      "source": [
        "c) Utiliza indexación avanzada para extraer todos los números primos del array original y crea un nuevo array con estos valores."
      ],
      "metadata": {
        "id": "mkl6o1xCSHZE"
      }
    },
    {
      "cell_type": "code",
      "source": [
        "def es_primo(num):\n",
        "    if num < 2:\n",
        "        return False\n",
        "    if num%2 == 0 and num > 2:\n",
        "        return False\n",
        "\n",
        "    for i in range(3, int(np.sqrt(num)) + 1, 2):\n",
        "        if num % i == 0:\n",
        "            return False\n",
        "    return True"
      ],
      "metadata": {
        "id": "YXGnE-ImSSn2"
      },
      "execution_count": null,
      "outputs": []
    },
    {
      "cell_type": "code",
      "source": [
        "mascara_primos = np.vectorize(es_primo)(array)\n",
        "mascara_primos"
      ],
      "metadata": {
        "colab": {
          "base_uri": "https://localhost:8080/"
        },
        "id": "UFq4KNoxRp_M",
        "outputId": "afa40242-68fa-4417-ef49-8a23e7a814c8"
      },
      "execution_count": 47,
      "outputs": [
        {
          "output_type": "execute_result",
          "data": {
            "text/plain": [
              "array([[False,  True, False, False,  True, False,  True, False, False,\n",
              "        False],\n",
              "       [ True, False,  True, False, False, False,  True, False,  True,\n",
              "        False],\n",
              "       [False, False,  True, False, False, False, False, False,  True,\n",
              "        False],\n",
              "       [ True, False, False, False, False, False,  True, False, False,\n",
              "        False],\n",
              "       [ True, False,  True, False, False, False,  True, False, False,\n",
              "        False],\n",
              "       [False, False,  True, False, False, False, False, False,  True,\n",
              "        False],\n",
              "       [ True, False, False, False, False, False,  True, False, False,\n",
              "        False],\n",
              "       [ True, False,  True, False, False, False, False, False,  True,\n",
              "        False],\n",
              "       [False, False,  True, False, False, False, False, False,  True,\n",
              "        False],\n",
              "       [False, False, False, False, False, False,  True, False, False,\n",
              "        False]])"
            ]
          },
          "metadata": {},
          "execution_count": 47
        }
      ]
    },
    {
      "cell_type": "code",
      "source": [
        "primos = array[mascara_primos]\n",
        "primos"
      ],
      "metadata": {
        "colab": {
          "base_uri": "https://localhost:8080/"
        },
        "id": "xRcV41w3TYPe",
        "outputId": "25a899ea-8500-4f8d-b3b9-b0b916e702b1"
      },
      "execution_count": 48,
      "outputs": [
        {
          "output_type": "execute_result",
          "data": {
            "text/plain": [
              "array([ 2,  5,  7, 11, 13, 17, 19, 23, 29, 31, 37, 41, 43, 47, 53, 59, 61,\n",
              "       67, 71, 73, 79, 83, 89, 97])"
            ]
          },
          "metadata": {},
          "execution_count": 48
        }
      ]
    },
    {
      "cell_type": "markdown",
      "source": [
        " # **Pregunta 5:**"
      ],
      "metadata": {
        "id": "2yrrLyMvT3NG"
      }
    },
    {
      "cell_type": "markdown",
      "source": [
        "a) Crea tres arrays unidimensionales de longitud 5 con números aleatorios entre 0 y 1."
      ],
      "metadata": {
        "id": "Nys53OsVT65J"
      }
    },
    {
      "cell_type": "code",
      "source": [
        "array1 = np.random.rand(5)\n",
        "array2 = np.random.rand(5)\n",
        "array3 = np.random.rand(5)\n",
        "\n",
        "print(\"Array 1:\", array1)\n",
        "print(\"Array 2:\", array2)\n",
        "print(\"Array 3:\", array3)"
      ],
      "metadata": {
        "colab": {
          "base_uri": "https://localhost:8080/"
        },
        "id": "jNLPhmYrT5ME",
        "outputId": "a76753c8-623b-4419-a256-ff9257a141be"
      },
      "execution_count": 49,
      "outputs": [
        {
          "output_type": "stream",
          "name": "stdout",
          "text": [
            "Array 1: [0.22536399 0.40837701 0.55776539 0.65694053 0.03450467]\n",
            "Array 2: [0.97280992 0.33045217 0.40637504 0.77592583 0.21481269]\n",
            "Array 3: [0.10217555 0.21195847 0.13227315 0.44311069 0.77912181]\n"
          ]
        }
      ]
    },
    {
      "cell_type": "markdown",
      "source": [
        "b) Combina estos arrays para formar una matriz de forma (5, 3)."
      ],
      "metadata": {
        "id": "uDMSXGPQUN8q"
      }
    },
    {
      "cell_type": "code",
      "source": [
        "matriz = np.column_stack((array1, array2, array3))\n",
        "print(\"Matriz combinada:\", matriz)"
      ],
      "metadata": {
        "colab": {
          "base_uri": "https://localhost:8080/"
        },
        "id": "257-LeDcTwci",
        "outputId": "f8a01f82-5d65-4563-a800-de1c0bd4437c"
      },
      "execution_count": 50,
      "outputs": [
        {
          "output_type": "stream",
          "name": "stdout",
          "text": [
            "Matriz combinada: [[0.22536399 0.97280992 0.10217555]\n",
            " [0.40837701 0.33045217 0.21195847]\n",
            " [0.55776539 0.40637504 0.13227315]\n",
            " [0.65694053 0.77592583 0.44311069]\n",
            " [0.03450467 0.21481269 0.77912181]]\n"
          ]
        }
      ]
    },
    {
      "cell_type": "markdown",
      "source": [
        "c) Agrega una columna de unos al principio de la matriz resultante, obteniendo una matriz de forma (5, 4)."
      ],
      "metadata": {
        "id": "7Kd_HpPkRqDY"
      }
    },
    {
      "cell_type": "code",
      "source": [
        "columna_unos = np.ones((matriz.shape[0], 1))\n",
        "columna_unos"
      ],
      "metadata": {
        "colab": {
          "base_uri": "https://localhost:8080/"
        },
        "id": "EGAn2nJ1IRTY",
        "outputId": "1e5947ea-ca9f-4fa1-9d9c-a8a09c3fb37d"
      },
      "execution_count": 51,
      "outputs": [
        {
          "output_type": "execute_result",
          "data": {
            "text/plain": [
              "array([[1.],\n",
              "       [1.],\n",
              "       [1.],\n",
              "       [1.],\n",
              "       [1.]])"
            ]
          },
          "metadata": {},
          "execution_count": 51
        }
      ]
    },
    {
      "cell_type": "code",
      "source": [
        "matriz_con_unos = np.column_stack((columna_unos, matriz))\n",
        "matriz_con_unos"
      ],
      "metadata": {
        "colab": {
          "base_uri": "https://localhost:8080/"
        },
        "id": "Wxb3CBFSU3KT",
        "outputId": "c541427f-bf31-4db3-a7b1-8da1d93fe397"
      },
      "execution_count": 52,
      "outputs": [
        {
          "output_type": "execute_result",
          "data": {
            "text/plain": [
              "array([[1.        , 0.22536399, 0.97280992, 0.10217555],\n",
              "       [1.        , 0.40837701, 0.33045217, 0.21195847],\n",
              "       [1.        , 0.55776539, 0.40637504, 0.13227315],\n",
              "       [1.        , 0.65694053, 0.77592583, 0.44311069],\n",
              "       [1.        , 0.03450467, 0.21481269, 0.77912181]])"
            ]
          },
          "metadata": {},
          "execution_count": 52
        }
      ]
    },
    {
      "cell_type": "markdown",
      "source": [
        " d) Reordena las columnas de la matriz para que la columna de unos esté al final.\n"
      ],
      "metadata": {
        "id": "y00WB4bqU_n9"
      }
    },
    {
      "cell_type": "code",
      "source": [
        "matriz_reordenada = matriz_con_unos[:, [1, 2, 3, 0]]\n",
        "matriz_reordenada"
      ],
      "metadata": {
        "colab": {
          "base_uri": "https://localhost:8080/"
        },
        "id": "OzQ8a9PzVHZA",
        "outputId": "84e1d25c-d92a-461a-87c3-62021bc7ab31"
      },
      "execution_count": 53,
      "outputs": [
        {
          "output_type": "execute_result",
          "data": {
            "text/plain": [
              "array([[0.22536399, 0.97280992, 0.10217555, 1.        ],\n",
              "       [0.40837701, 0.33045217, 0.21195847, 1.        ],\n",
              "       [0.55776539, 0.40637504, 0.13227315, 1.        ],\n",
              "       [0.65694053, 0.77592583, 0.44311069, 1.        ],\n",
              "       [0.03450467, 0.21481269, 0.77912181, 1.        ]])"
            ]
          },
          "metadata": {},
          "execution_count": 53
        }
      ]
    },
    {
      "cell_type": "markdown",
      "source": [
        "#  **Pregunta 6:**"
      ],
      "metadata": {
        "id": "hVG_AM_dVOD2"
      }
    },
    {
      "cell_type": "markdown",
      "source": [
        " a) Crea una matriz simétrica positiva definida de tamaño 3x3."
      ],
      "metadata": {
        "id": "Rm_DKcAJVWoF"
      }
    },
    {
      "cell_type": "code",
      "source": [
        "A = np.random.rand(3, 3)\n",
        "matriz_simetrica_positiva_definida = np.dot(A, A.T)\n",
        "matriz_simetrica_positiva_definida"
      ],
      "metadata": {
        "colab": {
          "base_uri": "https://localhost:8080/"
        },
        "id": "FFnMpRUoVS19",
        "outputId": "ec906670-fe6d-4cae-b107-d4f98c453c7c"
      },
      "execution_count": 54,
      "outputs": [
        {
          "output_type": "execute_result",
          "data": {
            "text/plain": [
              "array([[1.20306789, 1.01130045, 0.90575028],\n",
              "       [1.01130045, 1.2115518 , 0.87618187],\n",
              "       [0.90575028, 0.87618187, 0.72891112]])"
            ]
          },
          "metadata": {},
          "execution_count": 54
        }
      ]
    },
    {
      "cell_type": "markdown",
      "source": [
        " b) Calcula sus valores y vectores propios (eigenvalores y eigenvectores)."
      ],
      "metadata": {
        "id": "tkgcC24MVtno"
      }
    },
    {
      "cell_type": "code",
      "source": [
        "eigenvalores, eigenvectores = np.linalg.eig(matriz_simetrica_positiva_definida)\n",
        "\n",
        "print(\"Eigenvalores:\", eigenvalores)\n",
        "print(\"Eigenvectores:\\n\", eigenvectores)"
      ],
      "metadata": {
        "colab": {
          "base_uri": "https://localhost:8080/"
        },
        "id": "doHf7P60WBdb",
        "outputId": "a9e1eed4-908b-4e23-ab8a-7e8a05e1b557"
      },
      "execution_count": 55,
      "outputs": [
        {
          "output_type": "stream",
          "name": "stdout",
          "text": [
            "Eigenvalores: [2.93748527 0.19817556 0.00786998]\n",
            "Eigenvectores:\n",
            " [[-0.61589643 -0.66402623 -0.42395843]\n",
            " [-0.61245224  0.74205067 -0.27251248]\n",
            " [-0.49555407 -0.09181483  0.86371071]]\n"
          ]
        }
      ]
    },
    {
      "cell_type": "code",
      "source": [],
      "metadata": {
        "id": "CnYr6M90WKnB"
      },
      "execution_count": null,
      "outputs": []
    }
  ]
}