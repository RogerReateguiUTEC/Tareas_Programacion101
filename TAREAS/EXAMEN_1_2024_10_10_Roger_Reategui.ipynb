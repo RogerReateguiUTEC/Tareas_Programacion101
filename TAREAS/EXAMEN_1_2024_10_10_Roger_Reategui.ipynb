{
  "nbformat": 4,
  "nbformat_minor": 0,
  "metadata": {
    "colab": {
      "provenance": [],
      "authorship_tag": "ABX9TyO+KnKsH6+G9K3ALaVIj8xE",
      "include_colab_link": true
    },
    "kernelspec": {
      "name": "python3",
      "display_name": "Python 3"
    },
    "language_info": {
      "name": "python"
    }
  },
  "cells": [
    {
      "cell_type": "markdown",
      "metadata": {
        "id": "view-in-github",
        "colab_type": "text"
      },
      "source": [
        "<a href=\"https://colab.research.google.com/github/RogerReateguiUTEC/Tareas_Programacion101/blob/main/TAREAS/EXAMEN_1_2024_10_10_Roger_Reategui.ipynb\" target=\"_parent\"><img src=\"https://colab.research.google.com/assets/colab-badge.svg\" alt=\"Open In Colab\"/></a>"
      ]
    },
    {
      "cell_type": "markdown",
      "source": [
        "Pregunta 1: Matrices y Estructuras de Control\n",
        "\n",
        "Crea un laberinto de 5x5 representado por una matriz (lista de listas). Inicializa la matriz con paredes representadas por '#' en los bordes y espacios vacíos representados por ' ' en el interior.\n",
        "Escribe el código para crear esta matriz y muestra el laberinto en pantalla de forma que cada fila aparezca en una línea diferente."
      ],
      "metadata": {
        "id": "zi4eOrh0-1Oj"
      }
    },
    {
      "cell_type": "code",
      "source": [
        "#importamos la librería numpy\n",
        "import numpy as np\n",
        "\n",
        "#Creamos una matriz 5x5 que representa el laberinto\n",
        "laberinto = np.array([[\"#\",\"#\",\"#\",\"#\",\"#\"],\n",
        "                      [\"#\",\" \",\" \",\" \",\"#\"],\n",
        "                      [\"#\",\" \",\" \",\" \",\"#\"],\n",
        "                      [\"#\",\" \",\" \",\" \",\"#\"],\n",
        "                      [\"#\",\"#\",\"#\",\"#\",\"#\"]])\n",
        "print(laberinto)"
      ],
      "metadata": {
        "colab": {
          "base_uri": "https://localhost:8080/"
        },
        "id": "e6L2yxOz98kX",
        "outputId": "bd590e04-4a69-41fd-ca58-a89d7740015a"
      },
      "execution_count": 12,
      "outputs": [
        {
          "output_type": "stream",
          "name": "stdout",
          "text": [
            "[['#' '#' '#' '#' '#']\n",
            " ['#' ' ' ' ' ' ' '#']\n",
            " ['#' ' ' ' ' ' ' '#']\n",
            " ['#' ' ' ' ' ' ' '#']\n",
            " ['#' '#' '#' '#' '#']]\n"
          ]
        }
      ]
    },
    {
      "cell_type": "markdown",
      "source": [
        "Pregunta 2: Slicing y Mostrar el Laberinto\n",
        "\n",
        "Muestra el laberinto en pantalla marcando la posición del jugador con una 'P'. La posición inicial del jugador es (1, 1). Asegúrate de que la posición del jugador se refleje correctamente en la salida. Utiliza slicing para ayudar a mostrar las filas."
      ],
      "metadata": {
        "id": "qoc6aUQf_Knw"
      }
    },
    {
      "cell_type": "code",
      "source": [
        "#Mostrar al jugador\n",
        "laberintoConJugador = laberinto\n",
        "laberintoConJugador[1,1] = \"P\"\n",
        "print(laberintoConJugador)"
      ],
      "metadata": {
        "id": "9-y3ZvuO_LOJ",
        "outputId": "92eee590-3121-4230-8333-82cef7a0c73b",
        "colab": {
          "base_uri": "https://localhost:8080/"
        }
      },
      "execution_count": 21,
      "outputs": [
        {
          "output_type": "stream",
          "name": "stdout",
          "text": [
            "[['#' '#' '#' '#' '#']\n",
            " ['#' 'P' ' ' ' ' '#']\n",
            " ['#' ' ' ' ' ' ' '#']\n",
            " ['#' ' ' ' ' ' ' '#']\n",
            " ['#' '#' '#' '#' '#']]\n"
          ]
        }
      ]
    },
    {
      "cell_type": "code",
      "source": [],
      "metadata": {
        "id": "a8WUBxDZ_WRR"
      },
      "execution_count": null,
      "outputs": []
    }
  ]
}