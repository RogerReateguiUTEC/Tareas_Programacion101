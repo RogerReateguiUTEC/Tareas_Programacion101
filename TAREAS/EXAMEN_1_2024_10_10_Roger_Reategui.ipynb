{
  "nbformat": 4,
  "nbformat_minor": 0,
  "metadata": {
    "colab": {
      "provenance": [],
      "authorship_tag": "ABX9TyNREEzV3sXttFZTyrB0TTJg",
      "include_colab_link": true
    },
    "kernelspec": {
      "name": "python3",
      "display_name": "Python 3"
    },
    "language_info": {
      "name": "python"
    }
  },
  "cells": [
    {
      "cell_type": "markdown",
      "metadata": {
        "id": "view-in-github",
        "colab_type": "text"
      },
      "source": [
        "<a href=\"https://colab.research.google.com/github/RogerReateguiUTEC/Tareas_Programacion101/blob/main/TAREAS/EXAMEN_1_2024_10_10_Roger_Reategui.ipynb\" target=\"_parent\"><img src=\"https://colab.research.google.com/assets/colab-badge.svg\" alt=\"Open In Colab\"/></a>"
      ]
    },
    {
      "cell_type": "markdown",
      "source": [
        "## 4. Desafío\n",
        "\n",
        "\n",
        "Eres el encargado de un almacén de productos electrónicos. Tienes un registro de ventas semanales para teléfonos, laptops y tabletas. Necesitas analizar las ventas para mejorar la gestión.\n",
        "\n",
        "- Crea tres listas: una para teléfonos, otra para laptops y otra para tabletas con las ventas de cada día durante una semana.\n",
        "- Usa slicing para obtener las ventas de los últimos 3 días de cada producto.\n",
        "- Usa listas por comprensión para calcular el total de ventas de cada producto y el promedio de ventas diarias.\n",
        "- Clasifica los productos en \"ventas altas\" o \"ventas bajas\" según si el promedio de ventas es mayor o menor a 5.\n",
        "\n",
        "Instrucciones:\n",
        "Usa sum() y len() para calcular el total de ventas y el promedio.\n",
        "Clasifica las ventas usando listas por comprensión."
      ],
      "metadata": {
        "id": "wWsdUW5ha7-Z"
      }
    },
    {
      "cell_type": "code",
      "source": [
        "#1. Crea tres listas: una para teléfonos, otra para laptops y otra para tabletas con las ventas de cada día durante una semana\n",
        "#Creamos cada lista dentro de un diccionario denominado \"ventas\"\n",
        "ventas = {\n",
        "    \"telefonos\" : [50, 20, 100, 20, 50, 20, 60],\n",
        "    \"laptops\" : [1, 3, 5, 1, 7, 1, 2],\n",
        "    \"tablets\" : [0, 1, 2, 2, 2, 1, 4]\n",
        "}"
      ],
      "metadata": {
        "id": "WFn0L8hQbO_S"
      },
      "execution_count": null,
      "outputs": []
    },
    {
      "cell_type": "code",
      "source": [
        "#2. Usa slicing para extraer las ventas de los últimos 3 días de cada producto.\n",
        "print(\"Ventas últimos 3 días teléfonos: \" + str(ventas[\"telefonos\"][-3:]))\n",
        "print(\"Ventas últimos 3 días laptops: \" + str(ventas[\"laptops\"][-3:]))\n",
        "print(\"Ventas últimos 3 días tablets: \" + str(ventas[\"tablets\"][-3:]))"
      ],
      "metadata": {
        "colab": {
          "base_uri": "https://localhost:8080/"
        },
        "id": "FhN-AxyAdAD4",
        "outputId": "366b697b-de87-4581-a7c8-15dab58bae36"
      },
      "execution_count": null,
      "outputs": [
        {
          "output_type": "stream",
          "name": "stdout",
          "text": [
            "Ventas últimos 3 días teléfonos: [50, 20, 60]\n",
            "Ventas últimos 3 días laptops: [7, 1, 2]\n",
            "Ventas últimos 3 días tablets: [2, 1, 4]\n"
          ]
        }
      ]
    },
    {
      "cell_type": "code",
      "source": [
        "#3. Usa listas por compresión para calcular el total de ventas de cada producto y el promedio de ventas diarias.\n",
        "#total de las ventas de cada producto:\n",
        "total_ventas_telefonos = sum(ventas[\"telefonos\"])\n",
        "total_ventas_laptops = sum(ventas[\"laptops\"])\n",
        "total_ventas_tablets = sum(ventas[\"tablets\"])\n",
        "\n",
        "#promedio de ventas diarias:\n",
        "promedio_ventas_telefonos = total_ventas_telefonos/len(ventas[\"telefonos\"])\n",
        "promedio_ventas_laptops = total_ventas_laptops/len(ventas[\"laptops\"])\n",
        "promedio_ventas_tablets = total_ventas_tablets/len(ventas[\"tablets\"])\n",
        "\n",
        "print(f\"Venta Total teléfonos: {total_ventas_telefonos} | Venta promedio teléfonos: {promedio_ventas_telefonos}\")\n",
        "print(f\"Venta Total laptops: {total_ventas_laptops} | Venta promedio laptops: {promedio_ventas_laptops}\")\n",
        "print(f\"Venta Total tablets: {total_ventas_tablets} | Venta promedio tablets: {promedio_ventas_tablets}\")"
      ],
      "metadata": {
        "colab": {
          "base_uri": "https://localhost:8080/"
        },
        "id": "dEnwWG1tdddD",
        "outputId": "bc66d1c5-b142-420e-fba4-d99b39a777a4"
      },
      "execution_count": null,
      "outputs": [
        {
          "output_type": "stream",
          "name": "stdout",
          "text": [
            "Venta Total teléfonos: 320 | Venta promedio teléfonos: 45.714285714285715\n",
            "Venta Total laptops: 20 | Venta promedio laptops: 2.857142857142857\n",
            "Venta Total tablets: 12 | Venta promedio tablets: 1.7142857142857142\n"
          ]
        }
      ]
    },
    {
      "cell_type": "code",
      "source": [
        "#4. Clasifica los productos en \"ventas altas\" o \"ventas bajas\" según si el promedio de ventas es mayor o menor a 5.\n",
        "tipo_ventas = {\n",
        "    \"ventas_telefonos_resultado\": [\"ventas altas\" if promedio_ventas_telefonos > 5 else \"ventas bajas\"],\n",
        "    \"ventas_laptops_resultado\": [\"ventas altas\" if promedio_ventas_laptops > 5 else \"ventas bajas\"],\n",
        "    \"ventas_tablets_resultado\": [\"ventas altas\" if promedio_ventas_tablets > 5 else \"ventas bajas\"],\n",
        "}\n",
        "\n",
        "print(f\"¿Cómo fueron las ventas de las telefonos?: {tipo_ventas['ventas_telefonos_resultado'][0]}\")\n",
        "print(f\"¿Cómo fueron las ventas de los laptops?: {tipo_ventas['ventas_laptops_resultado'][0]}\")\n",
        "print(f\"¿Cómo fueron las ventas de los tablets?: {tipo_ventas['ventas_tablets_resultado'][0]}\")"
      ],
      "metadata": {
        "colab": {
          "base_uri": "https://localhost:8080/"
        },
        "id": "P02xt-QS23AU",
        "outputId": "2cd27d71-5d10-42c0-e5db-c1b383e976b1"
      },
      "execution_count": null,
      "outputs": [
        {
          "output_type": "stream",
          "name": "stdout",
          "text": [
            "¿Cómo fueron las ventas de las telefonos?: ventas altas\n",
            "¿Cómo fueron las ventas de los laptops?: ventas bajas\n",
            "¿Cómo fueron las ventas de los tablets?: ventas bajas\n"
          ]
        }
      ]
    },
    {
      "cell_type": "markdown",
      "source": [],
      "metadata": {
        "id": "-WtAQlr35FcJ"
      }
    }
  ]
}