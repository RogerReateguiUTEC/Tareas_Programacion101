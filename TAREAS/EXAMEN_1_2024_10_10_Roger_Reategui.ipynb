{
  "nbformat": 4,
  "nbformat_minor": 0,
  "metadata": {
    "colab": {
      "provenance": [],
      "authorship_tag": "ABX9TyPMi+nBj6/MorAGo24G+7zC",
      "include_colab_link": true
    },
    "kernelspec": {
      "name": "python3",
      "display_name": "Python 3"
    },
    "language_info": {
      "name": "python"
    }
  },
  "cells": [
    {
      "cell_type": "markdown",
      "metadata": {
        "id": "view-in-github",
        "colab_type": "text"
      },
      "source": [
        "<a href=\"https://colab.research.google.com/github/RogerReateguiUTEC/Tareas_Programacion101/blob/main/TAREAS/EXAMEN_1_2024_10_10_Roger_Reategui.ipynb\" target=\"_parent\"><img src=\"https://colab.research.google.com/assets/colab-badge.svg\" alt=\"Open In Colab\"/></a>"
      ]
    },
    {
      "cell_type": "markdown",
      "source": [
        "Pregunta 1: Matrices y Estructuras de Control\n",
        "\n",
        "Crea un laberinto de 5x5 representado por una matriz (lista de listas). Inicializa la matriz con paredes representadas por '#' en los bordes y espacios vacíos representados por ' ' en el interior.\n",
        "Escribe el código para crear esta matriz y muestra el laberinto en pantalla de forma que cada fila aparezca en una línea diferente."
      ],
      "metadata": {
        "id": "zi4eOrh0-1Oj"
      }
    },
    {
      "cell_type": "code",
      "source": [
        "#importamos la librería numpy\n",
        "import numpy as np\n",
        "\n",
        "#Creamos una matriz 5x5 que representa el laberinto\n",
        "laberinto = np.array([[\"#\",\"#\",\"#\",\"#\",\"#\"],\n",
        "                      [\"#\",\" \",\" \",\" \",\"#\"],\n",
        "                      [\"#\",\" \",\" \",\" \",\"#\"],\n",
        "                      [\"#\",\" \",\" \",\" \",\"#\"],\n",
        "                      [\"#\",\"#\",\"#\",\"#\",\"#\"]])\n",
        "print(laberinto)"
      ],
      "metadata": {
        "colab": {
          "base_uri": "https://localhost:8080/"
        },
        "id": "e6L2yxOz98kX",
        "outputId": "3ed301eb-9a41-4bf7-d3de-0dac8c8035e7"
      },
      "execution_count": 81,
      "outputs": [
        {
          "output_type": "stream",
          "name": "stdout",
          "text": [
            "[['#' '#' '#' '#' '#']\n",
            " ['#' ' ' ' ' ' ' '#']\n",
            " ['#' ' ' ' ' ' ' '#']\n",
            " ['#' ' ' ' ' ' ' '#']\n",
            " ['#' '#' '#' '#' '#']]\n"
          ]
        }
      ]
    },
    {
      "cell_type": "markdown",
      "source": [
        "Pregunta 2: Slicing y Mostrar el Laberinto\n",
        "\n",
        "Muestra el laberinto en pantalla marcando la posición del jugador con una 'P'. La posición inicial del jugador es (1, 1). Asegúrate de que la posición del jugador se refleje correctamente en la salida. Utiliza slicing para ayudar a mostrar las filas."
      ],
      "metadata": {
        "id": "qoc6aUQf_Knw"
      }
    },
    {
      "cell_type": "code",
      "source": [
        "#Mostrar al jugador\n",
        "laberintoConJugador = laberinto\n",
        "laberintoConJugador[1,1] = \"P\" #laberinto[1][1]\n",
        "print(laberintoConJugador)"
      ],
      "metadata": {
        "colab": {
          "base_uri": "https://localhost:8080/"
        },
        "id": "9-y3ZvuO_LOJ",
        "outputId": "4988cb8d-ac44-4354-cfc2-a6d4cdbe0859"
      },
      "execution_count": 83,
      "outputs": [
        {
          "output_type": "stream",
          "name": "stdout",
          "text": [
            "[['#' '#' '#' '#' '#']\n",
            " ['#' 'P' ' ' ' ' '#']\n",
            " ['#' ' ' ' ' ' ' '#']\n",
            " ['#' ' ' ' ' ' ' '#']\n",
            " ['#' '#' '#' '#' '#']]\n"
          ]
        }
      ]
    },
    {
      "cell_type": "markdown",
      "source": [
        "Pregunta 3: Diccionarios y Control de Flujo\n",
        "\n",
        "Crea un diccionario llamado inventario para almacenar los objetos que el jugador recolecta. Escribe el código que agrega un objeto al inventario cuando el jugador lo encuentra.\n",
        "Si el objeto ya existe en el inventario, incrementa su cantidad en 1; si no, añade el objeto al inventario con cantidad 1."
      ],
      "metadata": {
        "id": "5zRaYw35Ar-H"
      }
    },
    {
      "cell_type": "code",
      "source": [
        "#Inicializamos un diccionario que sea un inventario de objetos\n",
        "inventario = {}"
      ],
      "metadata": {
        "id": "C1I6gX1yAt63"
      },
      "execution_count": 46,
      "outputs": []
    },
    {
      "cell_type": "code",
      "source": [
        "#código para agregar objetos al inventario:\n",
        "nuevoObjeto = \"espada\"\n",
        "\n",
        "if nuevoObjeto in inventario:\n",
        "  inventario[nuevoObjeto] = inventario[nuevoObjeto]+1\n",
        "else:\n",
        "  inventario[nuevoObjeto] = 1\n",
        "\n",
        "inventario"
      ],
      "metadata": {
        "colab": {
          "base_uri": "https://localhost:8080/"
        },
        "id": "oFFIFOefB9lV",
        "outputId": "e87f62ae-bf7f-4ebd-fec0-37580d7ba3e0"
      },
      "execution_count": 48,
      "outputs": [
        {
          "output_type": "execute_result",
          "data": {
            "text/plain": [
              "{'espada': 1}"
            ]
          },
          "metadata": {},
          "execution_count": 48
        }
      ]
    },
    {
      "cell_type": "markdown",
      "source": [
        "Pregunta 4: Listas por Comprensión y Sets\n",
        "\n",
        "Supón que tienes una lista de objetos únicos del juego llamada objetos_unicos = ['espada', 'escudo', 'poción']. A partir del inventario, utiliza una lista por comprensión para extraer los objetos que están en objetos_unicos. Luego, convierte esta lista en un set para eliminar duplicados y muestra el set resultante.\n"
      ],
      "metadata": {
        "id": "vkvk0tc9C4dx"
      }
    },
    {
      "cell_type": "code",
      "source": [
        "objetos_unicos = ['espada', 'escudo', 'poción']\n",
        "\n",
        "# Verificamos en nuestro inventario qué objetos están dentro de los objetos únicos\n",
        "objetos_en_inventario = [x for x in inventario if x in objetos_unicos]\n",
        "\n",
        "#convertimos a set\n",
        "objetos_unicos_en_inventario = set(objetos_en_inventario)\n",
        "\n",
        "objetos_unicos_en_inventario"
      ],
      "metadata": {
        "colab": {
          "base_uri": "https://localhost:8080/"
        },
        "id": "V0P2htBvA2Ap",
        "outputId": "76184294-ae71-4444-ae59-055fbb8254ab"
      },
      "execution_count": 45,
      "outputs": [
        {
          "output_type": "execute_result",
          "data": {
            "text/plain": [
              "{'espada'}"
            ]
          },
          "metadata": {},
          "execution_count": 45
        }
      ]
    },
    {
      "cell_type": "markdown",
      "source": [
        "Pregunta 5: Manipulación de Strings y Estructuras de Control\n",
        "\n",
        "Cuando el jugador encuentra un objeto, debes mostrar un mensaje personalizado que incluya el nombre del objeto en mayúsculas y la cantidad total en el inventario. Por ejemplo: \"¡Has encontrado una ESPADA! Ahora tienes 2 ESPADAS.\" Escribe el código que genera este mensaje utilizando manipulación de strings y accediendo al inventario.\n"
      ],
      "metadata": {
        "id": "sGUc0SBBEkUH"
      }
    },
    {
      "cell_type": "code",
      "source": [
        "#Inicializamos un diccionario que sea un inventario de objetos\n",
        "inventario = {}"
      ],
      "metadata": {
        "id": "sAuGQVHvEtYa"
      },
      "execution_count": null,
      "outputs": []
    },
    {
      "cell_type": "code",
      "source": [
        "#Modificamos el código para agregar objetos al inventario:\n",
        "nuevoObjeto = \"escudo\"\n",
        "\n",
        "if nuevoObjeto in inventario:\n",
        "  inventario[nuevoObjeto] = inventario[nuevoObjeto]+1\n",
        "else:\n",
        "  inventario[nuevoObjeto] = 1\n",
        "print(\"¡Encontraste \" + nuevoObjeto.upper() + \"! Ahora tienes \" + str(inventario[nuevoObjeto]) + \" \" + nuevoObjeto.upper() + \"S\")"
      ],
      "metadata": {
        "colab": {
          "base_uri": "https://localhost:8080/"
        },
        "id": "67WqG6IDElj2",
        "outputId": "667841ef-81d0-4122-8794-8de50be9a9cd"
      },
      "execution_count": 57,
      "outputs": [
        {
          "output_type": "stream",
          "name": "stdout",
          "text": [
            "¡Encontraste ESCUDO! Ahora tienes 3 ESCUDOS\n"
          ]
        }
      ]
    },
    {
      "cell_type": "markdown",
      "source": [
        "Pregunta 6: Slicing y Control de Flujo\n",
        "\n",
        "Las trampas en el laberinto están en posiciones almacenadas en la lista trampas = [(1, 2), (3, 4), (2, 2)]. Escribe el código que verifica si la posición actual del jugador coincide con alguna trampa. Si es así, reduce la salud del jugador en 10 puntos. La salud inicial del jugador es 100. Utiliza una técnica eficiente para la verificación.\n"
      ],
      "metadata": {
        "id": "Lk1gAvO1FrE9"
      }
    },
    {
      "cell_type": "code",
      "source": [
        "trampas = [(1,1),(1, 2), (3, 4), (2, 2)]\n",
        "saludDelJugador = 100"
      ],
      "metadata": {
        "id": "QY8fjnYOJaIY"
      },
      "execution_count": null,
      "outputs": []
    },
    {
      "cell_type": "code",
      "source": [
        "posicionActualDelJugador = []\n",
        "\n",
        "#Buscamos en dónde está el jugador actualmente en la matriz:\n",
        "for fila in range(len(laberinto)):\n",
        "        for columna in range(len(laberinto[fila])):\n",
        "            if laberinto[fila][columna] == 'P':  # Comprobamos si el jugador está en esta fila y en esta columna\n",
        "                posicionActualDelJugador = [fila, columna]  # Guardamos la ubicación en una variable\n",
        "                break\n",
        "\n",
        "print(posicionActualDelJugador[0],posicionActualDelJugador[1])\n",
        "\n",
        "if (posicionActualDelJugador[0],posicionActualDelJugador[1]) in trampas:\n",
        "  saludDelJugador = saludDelJugador - 10\n",
        "  print(\"¡Recibiste daño! Salud=\" + str(saludDelJugador))"
      ],
      "metadata": {
        "colab": {
          "base_uri": "https://localhost:8080/"
        },
        "id": "YkAa0O30FsuY",
        "outputId": "cbd9fb61-3c8d-49ed-cd69-97f84597c152"
      },
      "execution_count": 80,
      "outputs": [
        {
          "output_type": "stream",
          "name": "stdout",
          "text": [
            "1 1\n",
            "¡Recibiste daño! Salud=70\n"
          ]
        }
      ]
    },
    {
      "cell_type": "markdown",
      "source": [
        "Pregunta 7: Listas Anidadas y Modificación de Matrices\n",
        "\n",
        "Cada vez que el jugador se mueve, actualiza la matriz del laberinto para reflejar el movimiento: coloca un espacio ' ' en la posición anterior y una 'P' en la nueva posición. Escribe el código que realiza esta actualización sin modificar las paredes ni otros elementos."
      ],
      "metadata": {
        "id": "45geVg5DJlzk"
      }
    },
    {
      "cell_type": "code",
      "source": [
        "#importamos la librería numpy\n",
        "import numpy as np\n",
        "\n",
        "#Creamos una matriz 5x5 que representa el laberinto\n",
        "laberinto = np.array([[\"#\",\"#\",\"#\",\"#\",\"#\"],\n",
        "                      [\"#\",\" \",\" \",\" \",\"#\"],\n",
        "                      [\"#\",\" \",\" \",\" \",\"#\"],\n",
        "                      [\"#\",\" \",\" \",\" \",\"#\"],\n",
        "                      [\"#\",\"#\",\"#\",\"#\",\"#\"]])\n",
        "\n",
        "#Inicializamos al Jugador en 1,1\n",
        "laberintoConJugador = laberinto\n",
        "laberintoConJugador[1,1] = \"P\" #laberinto[1][1]\n",
        "print(laberintoConJugador)"
      ],
      "metadata": {
        "colab": {
          "base_uri": "https://localhost:8080/"
        },
        "id": "Fsl_o-NHJm-T",
        "outputId": "4db068c4-129c-4452-fe2a-6061cf855717"
      },
      "execution_count": 84,
      "outputs": [
        {
          "output_type": "stream",
          "name": "stdout",
          "text": [
            "[['#' '#' '#' '#' '#']\n",
            " ['#' 'P' ' ' ' ' '#']\n",
            " ['#' ' ' ' ' ' ' '#']\n",
            " ['#' ' ' ' ' ' ' '#']\n",
            " ['#' '#' '#' '#' '#']]\n"
          ]
        }
      ]
    },
    {
      "cell_type": "code",
      "source": [
        "#Asumamos que queremos mover al jugador a este espacio de fila y columna:\n",
        "nuevaPosicionFila = 0\n",
        "nuevaPosicionColumna = 0\n",
        "\n",
        "#Buscamos en dónde está el jugador actualmente en la matriz:\n",
        "for fila in range(len(laberintoConJugador)):\n",
        "        for columna in range(len(laberintoConJugador[fila])):\n",
        "            if laberintoConJugador[fila][columna] == 'P':  # Comprobamos si el jugador está en esta fila y en esta columna\n",
        "                posicionActualDelJugador = [fila, columna]  # Guardamos la ubicación en una variable\n",
        "                break\n",
        "\n",
        "#Actualizamos la ubicación del jugador\n",
        "if laberintoConJugador[posicionActualDelJugador[0],posicionActualDelJugador[1]]==\"#\":\n",
        "  print(\"Chocaste con una pared\")\n",
        "else:\n",
        "  laberintoConJugador[posicionActualDelJugador[0],posicionActualDelJugador[1]] = \"\" #Borramos la ubicación anterior\n",
        "  laberintoConJugador[nuevaPosicionFila, nuevaPosicionColumna] = \"P\" #Posicionamos en su nuevo lugar al jugador\n",
        "\n",
        "print(laberintoConJugador)"
      ],
      "metadata": {
        "colab": {
          "base_uri": "https://localhost:8080/"
        },
        "id": "j1ICbfOyJ3P7",
        "outputId": "c64eb50f-31c6-4e94-a5e5-b93544cca6d6"
      },
      "execution_count": 89,
      "outputs": [
        {
          "output_type": "stream",
          "name": "stdout",
          "text": [
            "[['P' '#' '#' '#' '#']\n",
            " ['#' '' ' ' ' ' '#']\n",
            " ['#' ' ' ' ' '' '#']\n",
            " ['#' ' ' ' ' ' ' '#']\n",
            " ['#' '#' '#' '#' '#']]\n"
          ]
        }
      ]
    },
    {
      "cell_type": "markdown",
      "source": [],
      "metadata": {
        "id": "V6JM4oNYLI3Q"
      }
    },
    {
      "cell_type": "code",
      "source": [],
      "metadata": {
        "id": "3y7Ro61KH8W9"
      },
      "execution_count": null,
      "outputs": []
    }
  ]
}