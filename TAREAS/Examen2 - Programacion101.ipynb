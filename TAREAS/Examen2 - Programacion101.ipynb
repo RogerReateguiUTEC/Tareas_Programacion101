{
  "nbformat": 4,
  "nbformat_minor": 0,
  "metadata": {
    "colab": {
      "provenance": [],
      "include_colab_link": true
    },
    "kernelspec": {
      "name": "python3",
      "display_name": "Python 3"
    },
    "language_info": {
      "name": "python"
    }
  },
  "cells": [
    {
      "cell_type": "markdown",
      "metadata": {
        "id": "view-in-github",
        "colab_type": "text"
      },
      "source": [
        "<a href=\"https://colab.research.google.com/github/RogerReateguiUTEC/Tareas_Programacion101/blob/main/TAREAS/Examen2%20-%20Programacion101.ipynb\" target=\"_parent\"><img src=\"https://colab.research.google.com/assets/colab-badge.svg\" alt=\"Open In Colab\"/></a>"
      ]
    },
    {
      "cell_type": "markdown",
      "source": [
        "## EXAMEN 2 - ROGER REATEGUI SOTO"
      ],
      "metadata": {
        "id": "LRS_nQZsQoFP"
      }
    },
    {
      "cell_type": "markdown",
      "source": [
        "1. Cifrado de Texto (5 puntos)\n",
        "Escribe una función en Python llamada cifrar_texto que tome una cadena de texto y un número entero positivo n.\n",
        "La función debe devolver una nueva cadena donde cada carácter alfabético ha sido desplazado n posiciones\n",
        "adelante en el alfabeto. El cifrado debe ser cíclico; es decir, después de la 'z' sigue la 'a'. Mantén los caracteres\n",
        "no alfabéticos sin cambios y preserva las mayúsculas y minúsculas.\n",
        "\n"
      ],
      "metadata": {
        "id": "5O1ZbxoL-EAB"
      }
    },
    {
      "cell_type": "code",
      "source": [
        "def cifrar_texto(palabra, n):\n",
        "    resultado = []\n",
        "    alfabetoLista = list(\"abcdefghijklmnopqrstuvwxyz\")\n",
        "\n",
        "    for i in palabra:\n",
        "      #determinamos si la letra es del alfabeto o no\n",
        "      if i.isalpha():\n",
        "          nuevoCaracter = (alfabetoLista.index(i.lower()) + n) % 26\n",
        "          if i.isupper():\n",
        "            resultado.append(alfabetoLista[nuevoCaracter].upper())\n",
        "          else:\n",
        "            resultado.append(alfabetoLista[nuevoCaracter])\n",
        "      else:\n",
        "          resultado.append(i)\n",
        "    return ''.join(resultado)"
      ],
      "metadata": {
        "id": "_LUuYtZfi5_n"
      },
      "execution_count": 21,
      "outputs": []
    },
    {
      "cell_type": "code",
      "source": [
        "cifrar_texto(\"Hola, Mundo!\", 3)"
      ],
      "metadata": {
        "colab": {
          "base_uri": "https://localhost:8080/",
          "height": 35
        },
        "id": "9kt89BLzjFCG",
        "outputId": "bc3b49d9-f926-463b-ab14-6c23aaa8febc"
      },
      "execution_count": 22,
      "outputs": [
        {
          "output_type": "execute_result",
          "data": {
            "text/plain": [
              "'Krod, Pxqgr!'"
            ],
            "application/vnd.google.colaboratory.intrinsic+json": {
              "type": "string"
            }
          },
          "metadata": {},
          "execution_count": 22
        }
      ]
    },
    {
      "cell_type": "markdown",
      "source": [
        "2. Números Primos Gemelos (5 puntos)\n",
        "Escribe una función en Python que encuentre y devuelva todos los pares de números primos gemelos menores\n",
        "que un número entero positivo m dado. Los números primos gemelos son pares de números primos que difieren\n",
        "en 2 (por ejemplo, 3 y 5).\n",
        "\n",
        "Pista: Crea una función auxiliar para verificar si un número es primo, y utiliza un bucle para encontrar todos los\n",
        "primos hasta m.\n",
        "Ejemplo:\n",
        "primos_gemelos(15) # Devuelve [(3, 5), (5, 7), (11, 13)]"
      ],
      "metadata": {
        "id": "xCQITB1INExO"
      }
    },
    {
      "cell_type": "code",
      "source": [
        "def es_primo(numero):\n",
        "  for i in range(2, numero):\n",
        "    if numero%i==0:\n",
        "      return False\n",
        "      break\n",
        "  return True\n",
        "\n",
        "def generar_primos(numero):\n",
        "  listaPrimos = []\n",
        "  for i in range(3, numero+1):\n",
        "    if es_primo(i):\n",
        "      listaPrimos.append(i)\n",
        "\n",
        "  resultado = [(listaPrimos[i], listaPrimos[i+1]) for i in range(len(listaPrimos) - 1)]\n",
        "  return resultado"
      ],
      "metadata": {
        "id": "rCgPfuJIYU7R"
      },
      "execution_count": null,
      "outputs": []
    },
    {
      "cell_type": "code",
      "source": [
        "generar_primos(15)"
      ],
      "metadata": {
        "colab": {
          "base_uri": "https://localhost:8080/"
        },
        "id": "kluVsjjmY7X8",
        "outputId": "6d7b556a-0ce3-4172-b905-a862a2b4c28f"
      },
      "execution_count": null,
      "outputs": [
        {
          "output_type": "execute_result",
          "data": {
            "text/plain": [
              "[(3, 5), (5, 7), (7, 11), (11, 13)]"
            ]
          },
          "metadata": {},
          "execution_count": 38
        }
      ]
    },
    {
      "cell_type": "markdown",
      "source": [
        "3. Triángulo de Pascal (4 puntos)\n",
        "Utilizando bucles, escribe una función en Python que genere el Triángulo de Pascal hasta una altura h dada e\n",
        "imprímelo en formato piramidal.\n",
        "Pista: Cada número en el triángulo es la suma de los dos números directamente encima de él. Puedes utilizar\n",
        "listas para almacenar las filas"
      ],
      "metadata": {
        "id": "MbcsCcQnY8eX"
      }
    },
    {
      "cell_type": "code",
      "source": [
        "def generar_triangulo_pascal(h):\n",
        "    triangulo = [[1]]\n",
        "\n",
        "    for i in range(1, h):\n",
        "        fila = [1]\n",
        "        for j in range(1, i):\n",
        "            fila.append(triangulo[i-1][j-1] + triangulo[i-1][j])\n",
        "        fila.append(1)\n",
        "        triangulo.append(fila)\n",
        "\n",
        "    for fila in triangulo:\n",
        "        print(\" \" * (h - len(fila)), end=\"\")\n",
        "        fila_str = \"\"\n",
        "        for num in fila:\n",
        "            fila_str += str(num) + \" \"\n",
        "\n",
        "        print(fila_str.strip())"
      ],
      "metadata": {
        "id": "hneTVxJ8ZtQz"
      },
      "execution_count": null,
      "outputs": []
    },
    {
      "cell_type": "code",
      "source": [
        "generar_triangulo_pascal(5)"
      ],
      "metadata": {
        "id": "x1hc6f8cZ_MQ",
        "outputId": "710fc6cd-3f5d-4344-b0a4-01be6d729345",
        "colab": {
          "base_uri": "https://localhost:8080/"
        }
      },
      "execution_count": null,
      "outputs": [
        {
          "output_type": "stream",
          "name": "stdout",
          "text": [
            "    1\n",
            "   1 1\n",
            "  1 2 1\n",
            " 1 3 3 1\n",
            "1 4 6 4 1\n"
          ]
        }
      ]
    },
    {
      "cell_type": "code",
      "source": [
        "generar_triangulo_pascal(10)"
      ],
      "metadata": {
        "id": "F6sYrDY4d9Q0",
        "outputId": "0edd7094-974a-4f44-b55e-e181ca9b6564",
        "colab": {
          "base_uri": "https://localhost:8080/"
        }
      },
      "execution_count": null,
      "outputs": [
        {
          "output_type": "stream",
          "name": "stdout",
          "text": [
            "         1\n",
            "        1 1\n",
            "       1 2 1\n",
            "      1 3 3 1\n",
            "     1 4 6 4 1\n",
            "    1 5 10 10 5 1\n",
            "   1 6 15 20 15 6 1\n",
            "  1 7 21 35 35 21 7 1\n",
            " 1 8 28 56 70 56 28 8 1\n",
            "1 9 36 84 126 126 84 36 9 1\n"
          ]
        }
      ]
    },
    {
      "cell_type": "markdown",
      "source": [
        "4. Análisis de Frecuencia de Palabras (4 puntos)\n",
        "Escribe una función llamada analizar_frecuencia que tome una cadena de texto que puede contener múltiples\n",
        "oraciones. La función debe devolver un diccionario donde las claves son las palabras y los valores son el\n",
        "número de veces que aparece cada palabra en el texto. Ignora la puntuación y considera las mayúsculas y\n",
        "minúsculas como la misma letra (es decir, trata \"Hola\" y \"hola\" como la misma palabra).\n",
        "Pista: Utiliza el método str.lower() para convertir el texto a minúsculas y el módulo string para manejar la\n",
        "puntuación.\n",
        "Ejemplo:\n",
        "texto = \"Hola mundo. Hola a todos en el mundo.\"\n",
        "analizar_frecuencia(texto) # Devuelve {'hola': 2, 'mundo': 2, 'a': 1, 'todos': 1, 'en': 1, 'el': 1}"
      ],
      "metadata": {
        "id": "JV5ugRn1aAQh"
      }
    },
    {
      "cell_type": "code",
      "source": [
        "import string\n",
        "def analizar_frecuencia(texto):\n",
        "    texto = texto.lower()\n",
        "    texto_sin_puntuacion = texto.translate(str.maketrans('', '', string.punctuation)) #eliminamos puntuaciones\n",
        "\n",
        "    palabras = texto_sin_puntuacion.split()\n",
        "\n",
        "    frecuencia = {}\n",
        "\n",
        "    for x in palabras:\n",
        "        if x in frecuencia:\n",
        "            frecuencia[x] += 1\n",
        "        else:\n",
        "            frecuencia[x] = 1\n",
        "\n",
        "    return frecuencia"
      ],
      "metadata": {
        "id": "WqWmSdEPbjsr"
      },
      "execution_count": null,
      "outputs": []
    },
    {
      "cell_type": "code",
      "source": [
        "analizar_frecuencia(\"Hola mundo. Hola a todos en el mundo.\")"
      ],
      "metadata": {
        "id": "2o0jPW8gbt1n",
        "outputId": "ba624c8e-7aa2-4bf6-b2dc-859b61b4a464",
        "colab": {
          "base_uri": "https://localhost:8080/"
        }
      },
      "execution_count": null,
      "outputs": [
        {
          "output_type": "execute_result",
          "data": {
            "text/plain": [
              "{'hola': 2, 'mundo': 2, 'a': 1, 'todos': 1, 'en': 1, 'el': 1}"
            ]
          },
          "metadata": {},
          "execution_count": 51
        }
      ]
    },
    {
      "cell_type": "markdown",
      "source": [
        "5. Juego de Números Aleatorios (2 puntos)\n",
        "Crea un programa en Python que genere un número aleatorio entre 1 y 100. El usuario tiene que adivinar el\n",
        "número, y el programa debe darle pistas indicando \"más alto\" o \"más bajo\" después de cada intento. El juego\n",
        "termina cuando el usuario adivina el número o se queda sin intentos (máximo 10 intentos).\n",
        "Requisitos:\n",
        "● Utiliza un bucle para gestionar los intentos.\n",
        "● Después de cada intento fallido, indica al usuario cuántos intentos le quedan.\n",
        "● Al finalizar, muestra un mensaje apropiado indicando si ganó o cuál era el número correcto.\n",
        "Pista: Usa el módulo random para generar el número aleatorio y un bucle while para gestionar los intentos."
      ],
      "metadata": {
        "id": "-UdF9a4wcLRH"
      }
    },
    {
      "cell_type": "code",
      "source": [
        "import random\n",
        "\n",
        "def adivina_numero():\n",
        "    numero_secreto = random.randint(1, 100)\n",
        "    intentos_restantes = 10\n",
        "\n",
        "    print(\"Adivina el número entre 1 y 100\")\n",
        "\n",
        "    while intentos_restantes > 0:\n",
        "        # Solicitar al usuario que ingrese un número\n",
        "        intento = int(input(f\"Intento {11 - intentos_restantes} - ¿Cuál es tu intento? \"))\n",
        "\n",
        "        # Verificar si el intento es correcto\n",
        "        if intento == numero_secreto:\n",
        "            print(f\"¡Felicidades! Has adivinado el número {numero_secreto}.\")\n",
        "            break\n",
        "        elif intento < numero_secreto:\n",
        "            print(\"El número es más alto.\")\n",
        "        else:\n",
        "            print(\"El número es más bajo.\")\n",
        "        intentos_restantes = intentos_restantes - 1\n",
        "\n",
        "        # Mostrar cuántos intentos quedan\n",
        "        if intentos_restantes > 0:\n",
        "            print(f\"Te quedan {intentos_restantes} intentos.\")\n",
        "        else:\n",
        "            print(f\"Has agotado tus intentos. El número correcto era {numero_secreto}.\")\n",
        "            break"
      ],
      "metadata": {
        "id": "vj5pyJ29cTVN"
      },
      "execution_count": null,
      "outputs": []
    },
    {
      "cell_type": "code",
      "source": [
        "adivina_numero()"
      ],
      "metadata": {
        "id": "MNWoLWLydpAL",
        "outputId": "1418862a-bc31-4784-e93d-4d6a994e9745",
        "colab": {
          "base_uri": "https://localhost:8080/"
        }
      },
      "execution_count": null,
      "outputs": [
        {
          "output_type": "stream",
          "name": "stdout",
          "text": [
            "Adivina el número entre 1 y 100\n",
            "Intento 1 - ¿Cuál es tu intento? 5\n",
            "El número es más alto.\n",
            "Te quedan 9 intentos.\n",
            "Intento 2 - ¿Cuál es tu intento? 10\n",
            "El número es más alto.\n",
            "Te quedan 8 intentos.\n",
            "Intento 3 - ¿Cuál es tu intento? 20\n",
            "El número es más alto.\n",
            "Te quedan 7 intentos.\n",
            "Intento 4 - ¿Cuál es tu intento? 50\n",
            "El número es más alto.\n",
            "Te quedan 6 intentos.\n",
            "Intento 5 - ¿Cuál es tu intento? 80\n",
            "El número es más bajo.\n",
            "Te quedan 5 intentos.\n",
            "Intento 6 - ¿Cuál es tu intento? 70\n",
            "El número es más alto.\n",
            "Te quedan 4 intentos.\n",
            "Intento 7 - ¿Cuál es tu intento? 75\n",
            "El número es más alto.\n",
            "Te quedan 3 intentos.\n",
            "Intento 8 - ¿Cuál es tu intento? 76\n",
            "El número es más alto.\n",
            "Te quedan 2 intentos.\n",
            "Intento 9 - ¿Cuál es tu intento? 78\n",
            "El número es más bajo.\n",
            "Te quedan 1 intentos.\n",
            "Intento 10 - ¿Cuál es tu intento? 77\n",
            "¡Felicidades! Has adivinado el número 77.\n"
          ]
        }
      ]
    },
    {
      "cell_type": "code",
      "source": [],
      "metadata": {
        "id": "R1NNXBSRdqeH"
      },
      "execution_count": null,
      "outputs": []
    }
  ]
}