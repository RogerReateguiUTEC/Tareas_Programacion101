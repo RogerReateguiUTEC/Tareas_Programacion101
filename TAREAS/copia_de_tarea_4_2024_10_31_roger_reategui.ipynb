{
  "nbformat": 4,
  "nbformat_minor": 0,
  "metadata": {
    "colab": {
      "provenance": [],
      "authorship_tag": "ABX9TyMCk1LdA3nEpU9IdxIhtOzF",
      "include_colab_link": true
    },
    "kernelspec": {
      "name": "python3",
      "display_name": "Python 3"
    },
    "language_info": {
      "name": "python"
    }
  },
  "cells": [
    {
      "cell_type": "markdown",
      "metadata": {
        "id": "view-in-github",
        "colab_type": "text"
      },
      "source": [
        "<a href=\"https://colab.research.google.com/github/RogerReateguiUTEC/Tareas_Programacion101/blob/main/TAREAS/copia_de_tarea_4_2024_10_31_roger_reategui.ipynb\" target=\"_parent\"><img src=\"https://colab.research.google.com/assets/colab-badge.svg\" alt=\"Open In Colab\"/></a>"
      ]
    },
    {
      "cell_type": "markdown",
      "source": [
        "\n",
        "\n",
        "## Ejercicio 1.1:\n",
        "\n",
        "Define dos variables en tu código:\n",
        "\n",
        "Una ruta absoluta que apunte a un archivo en tu computadora. Una ruta relativa que apunte a un archivo en un subdirectorio llamado data."
      ],
      "metadata": {
        "id": "wWsdUW5ha7-Z"
      }
    },
    {
      "cell_type": "code",
      "source": [
        "#Rutas dentro de la carpeta del entorno de ejecución de google collab\n",
        "ruta_absoluta = \"/content/data/archivo_roger.txt\"\n",
        "ruta_relativa = \"data/archivo_roger.txt\""
      ],
      "metadata": {
        "id": "WFn0L8hQbO_S"
      },
      "execution_count": null,
      "outputs": []
    },
    {
      "cell_type": "markdown",
      "source": [
        "\n",
        "\n",
        "## Ejercicio 1.2\n",
        "* Crea un archivo de texto llamado prueba.txt en el cual escribas tres líneas de texto.\n",
        "* Lee el archivo prueba.txt y muestra su contenido en pantalla.\n",
        "* Escribe desde python una modificacion en el archivo\n",
        "\n"
      ],
      "metadata": {
        "id": "1729zx3gfw-1"
      }
    },
    {
      "cell_type": "code",
      "source": [
        "ruta_absoluta = \"/content/prueba.txt\"\n",
        "\n",
        "#abriendo el archivo y leerlo\n",
        "archivo = open(ruta_absoluta, \"r\")\n",
        "print(archivo.read())\n",
        "archivo.close()"
      ],
      "metadata": {
        "colab": {
          "base_uri": "https://localhost:8080/"
        },
        "id": "FhN-AxyAdAD4",
        "outputId": "2909b8f8-b690-4121-ac5d-4080a5264421"
      },
      "execution_count": null,
      "outputs": [
        {
          "output_type": "stream",
          "name": "stdout",
          "text": [
            "\"Hola, mundo\"\n"
          ]
        }
      ]
    },
    {
      "cell_type": "code",
      "source": [
        "#abriendo el archivo y escribir en este\n",
        "archivo = open(ruta_absoluta, \"w\")\n",
        "archivo.write(\"Modificación en el archivo...\\n\")\n",
        "archivo.write(\"línea 2...\\n\")\n",
        "archivo.write(\"línea 3...\\n\")\n",
        "archivo.close()\n",
        "#comprobando la modificación:\n",
        "archivo = open(ruta_absoluta, \"r\")\n",
        "print(archivo.read())"
      ],
      "metadata": {
        "colab": {
          "base_uri": "https://localhost:8080/"
        },
        "id": "VFJfcdL7gVSt",
        "outputId": "0f81df5d-8d78-4949-d717-8b62f1e7cecc"
      },
      "execution_count": null,
      "outputs": [
        {
          "output_type": "stream",
          "name": "stdout",
          "text": [
            "Modificación en el archivo...\n",
            "línea 2...\n",
            "línea 3...\n",
            "\n"
          ]
        }
      ]
    },
    {
      "cell_type": "markdown",
      "source": [
        "## Ejercicio 1.3\n",
        "\n",
        "* Usa un bucle para leer y mostrar cada línea de un archivo datos.txt.\n",
        "* Crea un programa que cuente el número de líneas de un archivo llamado conteo.txt.\n"
      ],
      "metadata": {
        "id": "X9CiAZfEhtbI"
      }
    },
    {
      "cell_type": "code",
      "source": [
        "# Leer un archivo línea por línea\n",
        "archivo = open(\"/content/prueba.txt\", \"r\")\n",
        "linea = archivo.readline()\n",
        "conteoDeLineas = 0\n",
        "while linea:\n",
        "    print(linea.strip())\n",
        "    print(\"---------\")\n",
        "    linea = archivo.readline()\n",
        "    conteoDeLineas=conteoDeLineas + 1\n",
        "print(f\"Total de líneas: {conteoDeLineas}\")\n",
        "archivo.close()"
      ],
      "metadata": {
        "colab": {
          "base_uri": "https://localhost:8080/"
        },
        "id": "WzqoxrbonFG9",
        "outputId": "df052d75-b130-4f58-a380-f29fc306ba74"
      },
      "execution_count": null,
      "outputs": [
        {
          "output_type": "stream",
          "name": "stdout",
          "text": [
            "Modificación en el archivo...\n",
            "---------\n",
            "línea 2...\n",
            "---------\n",
            "línea 3...\n",
            "---------\n",
            "Total de líneas: 3\n"
          ]
        }
      ]
    },
    {
      "cell_type": "markdown",
      "source": [
        "## Ejercicio 1.4\n",
        "* Abre un archivo llamado notas.txt usando with open() y lee todo su contenido.\n",
        "* Modifica el archivo notas.txt para agregar tres líneas más al final, usando el modo de apertura a.\n",
        "\n"
      ],
      "metadata": {
        "id": "XX_YqslKvJAz"
      }
    },
    {
      "cell_type": "code",
      "source": [
        "notas = open(\"notas.txt\", \"a\")\n",
        "notas.write(f\"línea nueva \\n\")\n",
        "notas.close()"
      ],
      "metadata": {
        "id": "fIZ9YW14vs0-"
      },
      "execution_count": null,
      "outputs": []
    },
    {
      "cell_type": "markdown",
      "source": [
        "## Ejercicio 2.1\n",
        "\n",
        "Crea un módulo llamado operaciones.py que contenga funciones para sumar, restar, multiplicar y dividir. Crea un archivo main.py que importe operaciones.py y use cada una de sus funciones.\n"
      ],
      "metadata": {
        "id": "yie9QYXn4ht0"
      }
    },
    {
      "cell_type": "code",
      "source": [
        "#importamos el archivo operaciones.py\n",
        "import operaciones\n",
        "\n",
        "nro1 = 100\n",
        "nro2 = 50\n",
        "print(f\"suma: {operaciones.sumar(nro1,nro2)}\")\n",
        "print(f\"resta: {operaciones.restar(nro1,nro2)}\")\n",
        "print(f\"multiplicación: {operaciones.multiplicar(nro1,nro2)}\")\n",
        "print(f\"división: {operaciones.dividir(nro1,nro2)}\")"
      ],
      "metadata": {
        "colab": {
          "base_uri": "https://localhost:8080/"
        },
        "id": "W9NdgXqI5CnC",
        "outputId": "18accd8e-04ec-4eac-ba40-d71927b1ff40"
      },
      "execution_count": null,
      "outputs": [
        {
          "output_type": "stream",
          "name": "stdout",
          "text": [
            "suma: 150\n",
            "resta: 50\n",
            "multiplicación: 5000\n",
            "división: 2.0\n"
          ]
        }
      ]
    },
    {
      "cell_type": "markdown",
      "source": [
        "## Ejercicio 2.2\n",
        "\n",
        "Crea un módulo llamado calculos.py que incluya una función para calcular el área de un círculo. Importa y usa esta función en un archivo llamado main.py.\n"
      ],
      "metadata": {
        "id": "VNA-TRFc9Pjc"
      }
    },
    {
      "cell_type": "code",
      "source": [
        "#importamos el archivo calculos.py\n",
        "import calculos\n",
        "\n",
        "radio = 100\n",
        "print(f\"radio del círculo: {calculos.areaDeCirculo(radio)}\")"
      ],
      "metadata": {
        "colab": {
          "base_uri": "https://localhost:8080/"
        },
        "id": "I9RctA8d9v3y",
        "outputId": "bc33def1-2540-416a-8f26-fbc28dac60c6"
      },
      "execution_count": null,
      "outputs": [
        {
          "output_type": "stream",
          "name": "stdout",
          "text": [
            "radio del círculo: 31415.926535897932\n"
          ]
        }
      ]
    },
    {
      "cell_type": "code",
      "source": [],
      "metadata": {
        "id": "kELaXWj3AWY4"
      },
      "execution_count": null,
      "outputs": []
    }
  ]
}